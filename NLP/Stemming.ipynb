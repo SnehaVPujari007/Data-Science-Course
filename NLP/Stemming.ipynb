{
 "cells": [
  {
   "cell_type": "markdown",
   "metadata": {},
   "source": [
    "Stemming "
   ]
  },
  {
   "cell_type": "code",
   "execution_count": 6,
   "metadata": {},
   "outputs": [],
   "source": [
    "words = [\"eating\" , \"eats\" , \"eaten\" ,\"writing\" , \"writes\",\"programming\" , \"programs\" ,\"history\" , \"finally\" , \"finalize\"]"
   ]
  },
  {
   "cell_type": "code",
   "execution_count": 7,
   "metadata": {},
   "outputs": [],
   "source": [
    "### PorterStemmer \n",
    "\n",
    "##  It can cause the loss of meaning\n",
    "\n",
    "from nltk.stem import PorterStemmer\n"
   ]
  },
  {
   "cell_type": "code",
   "execution_count": 8,
   "metadata": {},
   "outputs": [],
   "source": [
    "stemming = PorterStemmer()"
   ]
  },
  {
   "cell_type": "code",
   "execution_count": 9,
   "metadata": {},
   "outputs": [
    {
     "name": "stdout",
     "output_type": "stream",
     "text": [
      "eating----------->eat\n",
      "eats----------->eat\n",
      "eaten----------->eaten\n",
      "writing----------->write\n",
      "writes----------->write\n",
      "programming----------->program\n",
      "programs----------->program\n",
      "history----------->histori\n",
      "finally----------->final\n",
      "finalize----------->final\n"
     ]
    }
   ],
   "source": [
    "for word in words:\n",
    "    print(word+\"----------->\"+stemming.stem((word)))"
   ]
  },
  {
   "cell_type": "code",
   "execution_count": 10,
   "metadata": {},
   "outputs": [],
   "source": [
    "###  RegexStemmer \n",
    "\n",
    "from nltk.stem import RegexpStemmer"
   ]
  },
  {
   "cell_type": "code",
   "execution_count": 11,
   "metadata": {},
   "outputs": [],
   "source": [
    "reg_stemmer = RegexpStemmer('ing$|s$|e$|able$', min=4)"
   ]
  },
  {
   "cell_type": "code",
   "execution_count": 13,
   "metadata": {},
   "outputs": [
    {
     "name": "stdout",
     "output_type": "stream",
     "text": [
      "eat\n",
      "eat\n",
      "eaten\n",
      "writ\n",
      "write\n",
      "programm\n",
      "program\n",
      "history\n",
      "finally\n",
      "finaliz\n"
     ]
    }
   ],
   "source": [
    "for word in words :\n",
    "\n",
    "    print(reg_stemmer.stem(word))"
   ]
  },
  {
   "cell_type": "code",
   "execution_count": 14,
   "metadata": {},
   "outputs": [],
   "source": [
    "## Snowball Stemmer \n",
    "\n",
    "\n",
    "from nltk.stem import SnowballStemmer\n"
   ]
  },
  {
   "cell_type": "code",
   "execution_count": 15,
   "metadata": {},
   "outputs": [],
   "source": [
    "snowballsstemer = SnowballStemmer('english')"
   ]
  },
  {
   "cell_type": "code",
   "execution_count": 16,
   "metadata": {},
   "outputs": [
    {
     "name": "stdout",
     "output_type": "stream",
     "text": [
      "eat\n",
      "eat\n",
      "eaten\n",
      "write\n",
      "write\n",
      "program\n",
      "program\n",
      "histori\n",
      "final\n",
      "final\n"
     ]
    }
   ],
   "source": [
    "for word in words:\n",
    "    print(snowballsstemer.stem(word))"
   ]
  }
 ],
 "metadata": {
  "kernelspec": {
   "display_name": ".venv",
   "language": "python",
   "name": "python3"
  },
  "language_info": {
   "codemirror_mode": {
    "name": "ipython",
    "version": 3
   },
   "file_extension": ".py",
   "mimetype": "text/x-python",
   "name": "python",
   "nbconvert_exporter": "python",
   "pygments_lexer": "ipython3",
   "version": "3.13.0"
  },
  "orig_nbformat": 4
 },
 "nbformat": 4,
 "nbformat_minor": 2
}
