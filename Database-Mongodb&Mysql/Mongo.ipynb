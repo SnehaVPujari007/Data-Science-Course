{
 "cells": [
  {
   "cell_type": "code",
   "execution_count": 15,
   "metadata": {},
   "outputs": [],
   "source": [
    "#import the library\n",
    "import pymongo"
   ]
  },
  {
   "cell_type": "code",
   "execution_count": 16,
   "metadata": {},
   "outputs": [],
   "source": [
    "#Integrating the mongo with python\n",
    "client = pymongo.MongoClient('mongodb://127.0.0.1:27017/')"
   ]
  },
  {
   "cell_type": "code",
   "execution_count": 17,
   "metadata": {},
   "outputs": [],
   "source": [
    "# Creating the database called Employee\n",
    "mydb = client['Employee']"
   ]
  },
  {
   "cell_type": "code",
   "execution_count": 18,
   "metadata": {},
   "outputs": [],
   "source": [
    "#creating the collection in Employee database\n",
    "information= mydb.employeeinformation\n"
   ]
  },
  {
   "cell_type": "code",
   "execution_count": 19,
   "metadata": {},
   "outputs": [],
   "source": [
    "record = [{\n",
    "    'Firstname':'Sneha',\n",
    "    'Lastname':'Pujari',\n",
    "    'Department':'Analytics',\n",
    "    'age' : 22\n",
    "\n",
    "},{\n",
    "    'Firstname':'Sneha2',\n",
    "    'Lastname':'Pujari2',\n",
    "    'Department':'Analytics2'\n",
    "    , 'age' : 23\n",
    "\n",
    "},{\n",
    "    'Firstname':'Sneha3',\n",
    "    'Lastname':'Pujari3',\n",
    "    'Department':'Analytics3',\n",
    "    'age' : 30\n",
    "\n",
    "},]"
   ]
  },
  {
   "cell_type": "code",
   "execution_count": 20,
   "metadata": {},
   "outputs": [
    {
     "data": {
      "text/plain": [
       "InsertManyResult([ObjectId('674979356870d6cc141cc58f'), ObjectId('674979356870d6cc141cc590'), ObjectId('674979356870d6cc141cc591')], acknowledged=True)"
      ]
     },
     "execution_count": 20,
     "metadata": {},
     "output_type": "execute_result"
    }
   ],
   "source": [
    "information.insert_many(record)"
   ]
  },
  {
   "cell_type": "code",
   "execution_count": 21,
   "metadata": {},
   "outputs": [
    {
     "data": {
      "text/plain": [
       "{'_id': ObjectId('67496745514e8f82d880d22a'),\n",
       " 'Firstname': 'Sneha',\n",
       " 'Lastname': 'Pujari',\n",
       " 'Department': 'Analytics'}"
      ]
     },
     "execution_count": 21,
     "metadata": {},
     "output_type": "execute_result"
    }
   ],
   "source": [
    "##Simply way of querying \n",
    "\n",
    "information.find_one()"
   ]
  },
  {
   "cell_type": "code",
   "execution_count": 22,
   "metadata": {},
   "outputs": [
    {
     "data": {
      "text/plain": [
       "<pymongo.synchronous.cursor.Cursor at 0x1b73b7c9310>"
      ]
     },
     "execution_count": 22,
     "metadata": {},
     "output_type": "execute_result"
    }
   ],
   "source": [
    "## Similarly as SELECT * FROM information\n",
    "information.find()"
   ]
  },
  {
   "cell_type": "code",
   "execution_count": 23,
   "metadata": {},
   "outputs": [
    {
     "name": "stdout",
     "output_type": "stream",
     "text": [
      "{'_id': ObjectId('67496745514e8f82d880d22a'), 'Firstname': 'Sneha', 'Lastname': 'Pujari', 'Department': 'Analytics'}\n",
      "{'_id': ObjectId('67496908514e8f82d880d22b'), 'Firstname': 'Sneha', 'Lastname': 'Pujari', 'Department': 'Analytics'}\n",
      "{'_id': ObjectId('67496908514e8f82d880d22c'), 'Firstname': 'Sneha2', 'Lastname': 'Pujari2', 'Department': 'Analytics2'}\n",
      "{'_id': ObjectId('67496908514e8f82d880d22d'), 'Firstname': 'Sneha3', 'Lastname': 'Pujari3', 'Department': 'Analytics3'}\n",
      "{'_id': ObjectId('6749763f6870d6cc141cc58b'), 'Firstname': 'Sneha', 'Lastname': 'Pujari', 'Department': 'Analytics'}\n",
      "{'_id': ObjectId('6749763f6870d6cc141cc58c'), 'Firstname': 'Sneha2', 'Lastname': 'Pujari2', 'Department': 'Analytics2'}\n",
      "{'_id': ObjectId('6749763f6870d6cc141cc58d'), 'Firstname': 'Sneha3', 'Lastname': 'Pujari3', 'Department': 'Analytics3'}\n",
      "{'_id': ObjectId('674979356870d6cc141cc58f'), 'Firstname': 'Sneha', 'Lastname': 'Pujari', 'Department': 'Analytics', 'age': 22}\n",
      "{'_id': ObjectId('674979356870d6cc141cc590'), 'Firstname': 'Sneha2', 'Lastname': 'Pujari2', 'Department': 'Analytics2', 'age': 23}\n",
      "{'_id': ObjectId('674979356870d6cc141cc591'), 'Firstname': 'Sneha3', 'Lastname': 'Pujari3', 'Department': 'Analytics3', 'age': 30}\n"
     ]
    }
   ],
   "source": [
    "for record in information.find():\n",
    "    print(record)\n"
   ]
  },
  {
   "cell_type": "code",
   "execution_count": 24,
   "metadata": {},
   "outputs": [
    {
     "name": "stdout",
     "output_type": "stream",
     "text": [
      "{'_id': ObjectId('67496745514e8f82d880d22a'), 'Firstname': 'Sneha', 'Lastname': 'Pujari', 'Department': 'Analytics'}\n",
      "{'_id': ObjectId('67496908514e8f82d880d22b'), 'Firstname': 'Sneha', 'Lastname': 'Pujari', 'Department': 'Analytics'}\n",
      "{'_id': ObjectId('6749763f6870d6cc141cc58b'), 'Firstname': 'Sneha', 'Lastname': 'Pujari', 'Department': 'Analytics'}\n",
      "{'_id': ObjectId('674979356870d6cc141cc58f'), 'Firstname': 'Sneha', 'Lastname': 'Pujari', 'Department': 'Analytics', 'age': 22}\n"
     ]
    }
   ],
   "source": [
    "## query the json documents based on equality conditions\n",
    "for record in information.find({'Firstname':'Sneha'}):\n",
    "    print(record)"
   ]
  },
  {
   "cell_type": "code",
   "execution_count": 26,
   "metadata": {},
   "outputs": [
    {
     "name": "stdout",
     "output_type": "stream",
     "text": [
      "{'_id': ObjectId('674979356870d6cc141cc58f'), 'Firstname': 'Sneha', 'Lastname': 'Pujari', 'Department': 'Analytics', 'age': 22}\n",
      "{'_id': ObjectId('674979356870d6cc141cc590'), 'Firstname': 'Sneha2', 'Lastname': 'Pujari2', 'Department': 'Analytics2', 'age': 23}\n"
     ]
    }
   ],
   "source": [
    "## Query documents using query operators ($in,$lt,$gt)\n",
    "\n",
    "for record in information.find({'age': {'$in' :[22,23,24]}}):\n",
    "    print(record)"
   ]
  },
  {
   "cell_type": "code",
   "execution_count": 27,
   "metadata": {},
   "outputs": [
    {
     "name": "stdout",
     "output_type": "stream",
     "text": [
      "{'_id': ObjectId('674979356870d6cc141cc58f'), 'Firstname': 'Sneha', 'Lastname': 'Pujari', 'Department': 'Analytics', 'age': 22}\n",
      "{'_id': ObjectId('674979356870d6cc141cc590'), 'Firstname': 'Sneha2', 'Lastname': 'Pujari2', 'Department': 'Analytics2', 'age': 23}\n"
     ]
    }
   ],
   "source": [
    "# it is for less tham\n",
    "for record in information.find({'age' : {'$lt' : 30}}):\n",
    "    print(record)"
   ]
  },
  {
   "cell_type": "code",
   "execution_count": 28,
   "metadata": {},
   "outputs": [
    {
     "name": "stdout",
     "output_type": "stream",
     "text": [
      "{'_id': ObjectId('674979356870d6cc141cc58f'), 'Firstname': 'Sneha', 'Lastname': 'Pujari', 'Department': 'Analytics', 'age': 22}\n",
      "{'_id': ObjectId('674979356870d6cc141cc590'), 'Firstname': 'Sneha2', 'Lastname': 'Pujari2', 'Department': 'Analytics2', 'age': 23}\n",
      "{'_id': ObjectId('674979356870d6cc141cc591'), 'Firstname': 'Sneha3', 'Lastname': 'Pujari3', 'Department': 'Analytics3', 'age': 30}\n"
     ]
    }
   ],
   "source": [
    "# it is for greater than\n",
    "for record in information.find(\n",
    "    {'age' : {'$gt' : 20}}\n",
    "):\n",
    "    print(record)"
   ]
  },
  {
   "cell_type": "code",
   "execution_count": 37,
   "metadata": {},
   "outputs": [],
   "source": [
    "# And and Query operations\n",
    "for record in information.find(\n",
    " {'Firstname' : 'Sneha1' ,'age' : 22} \n",
    "\n",
    "   \n",
    "):\n",
    "    print(record)"
   ]
  },
  {
   "cell_type": "code",
   "execution_count": 38,
   "metadata": {},
   "outputs": [
    {
     "name": "stdout",
     "output_type": "stream",
     "text": [
      "{'_id': ObjectId('67496745514e8f82d880d22a'), 'Firstname': 'Sneha', 'Lastname': 'Pujari', 'Department': 'Analytics'}\n",
      "{'_id': ObjectId('67496908514e8f82d880d22b'), 'Firstname': 'Sneha', 'Lastname': 'Pujari', 'Department': 'Analytics'}\n",
      "{'_id': ObjectId('6749763f6870d6cc141cc58b'), 'Firstname': 'Sneha', 'Lastname': 'Pujari', 'Department': 'Analytics'}\n",
      "{'_id': ObjectId('674979356870d6cc141cc58f'), 'Firstname': 'Sneha', 'Lastname': 'Pujari', 'Department': 'Analytics', 'age': 22}\n"
     ]
    }
   ],
   "source": [
    "# oR \n",
    "\n",
    "for record in information.find({'$or':[{'Firstname' : 'Sneha'} , {'age' : 22}]}):\n",
    "    print(record)\n"
   ]
  },
  {
   "cell_type": "code",
   "execution_count": 39,
   "metadata": {},
   "outputs": [],
   "source": [
    "inventory = mydb.inventory"
   ]
  },
  {
   "cell_type": "code",
   "execution_count": 40,
   "metadata": {},
   "outputs": [
    {
     "data": {
      "text/plain": [
       "InsertManyResult([ObjectId('6749816a6870d6cc141cc592'), ObjectId('6749816a6870d6cc141cc593')], acknowledged=True)"
      ]
     },
     "execution_count": 40,
     "metadata": {},
     "output_type": "execute_result"
    }
   ],
   "source": [
    "inventory.insert_many(\n",
    "    [\n",
    "        {'item':'Journal','qty':25 ,'size' : {'h':14,'w':21,'uom':'cm'}},\n",
    "       { 'item':'Journal','qty':25 ,'size' : {'h':14,'w':21,'uom':'cm'}},\n",
    "    \n",
    "    ]\n",
    ")"
   ]
  },
  {
   "cell_type": "code",
   "execution_count": 42,
   "metadata": {},
   "outputs": [
    {
     "data": {
      "text/plain": [
       "UpdateResult({'n': 1, 'nModified': 1, 'ok': 1.0, 'updatedExisting': True}, acknowledged=True)"
      ]
     },
     "execution_count": 42,
     "metadata": {},
     "output_type": "execute_result"
    }
   ],
   "source": [
    "inventory.update_one({'item':'Journal'},{'$set' : {'item':'notebook'}})"
   ]
  },
  {
   "cell_type": "code",
   "execution_count": 48,
   "metadata": {},
   "outputs": [
    {
     "data": {
      "text/plain": [
       "UpdateResult({'n': 1, 'nModified': 1, 'ok': 1.0, 'updatedExisting': True}, acknowledged=True)"
      ]
     },
     "execution_count": 48,
     "metadata": {},
     "output_type": "execute_result"
    }
   ],
   "source": [
    "inventory.update_one({'item':'notebook'},{'$set' : {'size.w': 44},'$currentDate':{\"lastModified\": True}})"
   ]
  },
  {
   "cell_type": "code",
   "execution_count": 49,
   "metadata": {},
   "outputs": [
    {
     "name": "stdout",
     "output_type": "stream",
     "text": [
      "{'_id': ObjectId('6749816a6870d6cc141cc592'), 'item': 'notebook', 'qty': 25, 'size': {'h': 14, 'w': 44, 'uom': 'cm'}, 'lastModified': datetime.datetime(2024, 11, 29, 9, 18, 40, 278000)}\n",
      "{'_id': ObjectId('6749816a6870d6cc141cc593'), 'item': 'Journal', 'qty': 25, 'size': {'h': 14, 'w': 21, 'uom': 'cm'}}\n"
     ]
    }
   ],
   "source": [
    "for i in inventory.find():\n",
    "    print(i)"
   ]
  },
  {
   "cell_type": "code",
   "execution_count": 52,
   "metadata": {},
   "outputs": [
    {
     "data": {
      "text/plain": [
       "UpdateResult({'n': 1, 'nModified': 1, 'ok': 1.0, 'updatedExisting': True}, acknowledged=True)"
      ]
     },
     "execution_count": 52,
     "metadata": {},
     "output_type": "execute_result"
    }
   ],
   "source": [
    "inventory.update_many({'item':'Journal'},{'$set' : {'size.h': 40 }})"
   ]
  },
  {
   "cell_type": "code",
   "execution_count": 53,
   "metadata": {},
   "outputs": [
    {
     "name": "stdout",
     "output_type": "stream",
     "text": [
      "{'_id': ObjectId('6749816a6870d6cc141cc592'), 'item': 'notebook', 'qty': 25, 'size': {'h': 14, 'w': 44, 'uom': 'cm'}, 'lastModified': datetime.datetime(2024, 11, 29, 9, 18, 40, 278000)}\n",
      "{'_id': ObjectId('6749816a6870d6cc141cc593'), 'item': 'Journal', 'qty': 25, 'size': {'h': 40, 'w': 21, 'uom': 'cm'}}\n"
     ]
    }
   ],
   "source": [
    "for i in inventory.find():\n",
    "    print(i)"
   ]
  },
  {
   "cell_type": "code",
   "execution_count": 54,
   "metadata": {},
   "outputs": [
    {
     "data": {
      "text/plain": [
       "UpdateResult({'n': 1, 'nModified': 1, 'ok': 1.0, 'updatedExisting': True}, acknowledged=True)"
      ]
     },
     "execution_count": 54,
     "metadata": {},
     "output_type": "execute_result"
    }
   ],
   "source": [
    "inventory.replace_one({'item':'notebook'},{'item':'book'})"
   ]
  },
  {
   "cell_type": "code",
   "execution_count": 55,
   "metadata": {},
   "outputs": [
    {
     "name": "stdout",
     "output_type": "stream",
     "text": [
      "{'_id': ObjectId('6749816a6870d6cc141cc592'), 'item': 'book'}\n",
      "{'_id': ObjectId('6749816a6870d6cc141cc593'), 'item': 'Journal', 'qty': 25, 'size': {'h': 40, 'w': 21, 'uom': 'cm'}}\n"
     ]
    }
   ],
   "source": [
    "for i in inventory.find():\n",
    "    print(i)"
   ]
  },
  {
   "cell_type": "code",
   "execution_count": null,
   "metadata": {},
   "outputs": [],
   "source": []
  }
 ],
 "metadata": {
  "kernelspec": {
   "display_name": "environment",
   "language": "python",
   "name": "python3"
  },
  "language_info": {
   "codemirror_mode": {
    "name": "ipython",
    "version": 3
   },
   "file_extension": ".py",
   "mimetype": "text/x-python",
   "name": "python",
   "nbconvert_exporter": "python",
   "pygments_lexer": "ipython3",
   "version": "3.13.0"
  },
  "orig_nbformat": 4
 },
 "nbformat": 4,
 "nbformat_minor": 2
}
