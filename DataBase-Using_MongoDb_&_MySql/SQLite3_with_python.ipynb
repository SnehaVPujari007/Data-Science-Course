{
 "cells": [
  {
   "cell_type": "markdown",
   "metadata": {},
   "source": [
    "## SQL and SQLite3"
   ]
  },
  {
   "cell_type": "code",
   "execution_count": 2,
   "metadata": {},
   "outputs": [],
   "source": [
    "import sqlite3"
   ]
  },
  {
   "cell_type": "code",
   "execution_count": 3,
   "metadata": {},
   "outputs": [
    {
     "data": {
      "text/plain": [
       "<sqlite3.Connection at 0x2a907d431f0>"
      ]
     },
     "execution_count": 3,
     "metadata": {},
     "output_type": "execute_result"
    }
   ],
   "source": [
    "## connect to sqldatabase\n",
    "\n",
    "connection=sqlite3.connect('example.db')\n",
    "connection\n"
   ]
  },
  {
   "cell_type": "code",
   "execution_count": 5,
   "metadata": {},
   "outputs": [],
   "source": [
    "cursor = connection.cursor()"
   ]
  },
  {
   "cell_type": "code",
   "execution_count": 6,
   "metadata": {},
   "outputs": [],
   "source": [
    "## Create a Table\n",
    "cursor.execute(\n",
    "    '''\n",
    "Create Table If Not Exists employees(\n",
    "id Integer Primary key ,\n",
    "name Text Not Null,\n",
    "age Integer,\n",
    "department text\n",
    "\n",
    ")\n",
    "'''\n",
    ")\n",
    "\n",
    "connection.commit()"
   ]
  },
  {
   "cell_type": "code",
   "execution_count": 7,
   "metadata": {},
   "outputs": [
    {
     "data": {
      "text/plain": [
       "<sqlite3.Cursor at 0x2a907f2c9c0>"
      ]
     },
     "execution_count": 7,
     "metadata": {},
     "output_type": "execute_result"
    }
   ],
   "source": [
    "cursor.execute(\n",
    "    '''\n",
    "Select * from employees\n",
    "'''\n",
    ")"
   ]
  },
  {
   "cell_type": "code",
   "execution_count": 8,
   "metadata": {},
   "outputs": [],
   "source": [
    "## insert the data\n",
    "\n",
    "\n",
    "cursor.execute(\n",
    "    '''\n",
    "Insert into employees(name,age,department) values('Sneha Pujari',22,'Data Scientists')\n",
    "'''\n",
    ")\n",
    "\n",
    "\n",
    "cursor.execute(\n",
    "    '''\n",
    "Insert into employees(name,age,department) values('Vishal Pujari',25,'Scientists')\n",
    "'''\n",
    ")\n",
    "\n",
    "\n",
    "cursor.execute(\n",
    "    '''\n",
    "Insert into employees(name,age,department) values('Vilasrao Pujari',54,'Management Engineer')\n",
    "'''\n",
    ")\n",
    "\n",
    "\n",
    "connection.commit()"
   ]
  },
  {
   "cell_type": "code",
   "execution_count": 9,
   "metadata": {},
   "outputs": [
    {
     "name": "stdout",
     "output_type": "stream",
     "text": [
      "(1, 'Sneha Pujari', 22, 'Data Scientists')\n",
      "(2, 'Vishal Pujari', 25, 'Scientists')\n",
      "(3, 'Vilasrao Pujari', 54, 'Management Engineer')\n"
     ]
    }
   ],
   "source": [
    "## query the data from the table \n",
    "cursor.execute('Select * from employees')\n",
    "rows = cursor.fetchall()\n",
    "\n",
    "for row in rows:\n",
    "    print(row)\n"
   ]
  },
  {
   "cell_type": "code",
   "execution_count": 10,
   "metadata": {},
   "outputs": [],
   "source": [
    "## Update the table\n",
    "\n",
    "cursor.execute(\n",
    "    '''\n",
    "UPDATE employees\n",
    "Set age = 27\n",
    "where name=\"Vishal Pujari\"\n",
    "'''\n",
    ")\n",
    "\n",
    "connection.commit()"
   ]
  },
  {
   "cell_type": "code",
   "execution_count": 11,
   "metadata": {},
   "outputs": [
    {
     "name": "stdout",
     "output_type": "stream",
     "text": [
      "(1, 'Sneha Pujari', 22, 'Data Scientists')\n",
      "(2, 'Vishal Pujari', 27, 'Scientists')\n",
      "(3, 'Vilasrao Pujari', 54, 'Management Engineer')\n"
     ]
    }
   ],
   "source": [
    "## query the data from the table \n",
    "cursor.execute('Select * from employees')\n",
    "rows = cursor.fetchall()\n",
    "\n",
    "for row in rows:\n",
    "    print(row)"
   ]
  },
  {
   "cell_type": "code",
   "execution_count": 13,
   "metadata": {},
   "outputs": [],
   "source": [
    "## Delete the data from the table \n",
    "\n",
    "cursor.execute(\n",
    "    '''\n",
    "Delete from employees where name = 'Vilasrao Pujari'\n",
    "'''\n",
    ")\n",
    "\n",
    "connection.commit()"
   ]
  },
  {
   "cell_type": "code",
   "execution_count": 14,
   "metadata": {},
   "outputs": [],
   "source": [
    "series = [\n",
    "    (\"Sneha\" ,23,  \"Data Analyst\"),\n",
    "    (\"Vishal\" ,27,'Scientist')\n",
    "]"
   ]
  },
  {
   "cell_type": "code",
   "execution_count": 15,
   "metadata": {},
   "outputs": [],
   "source": [
    "cursor.executemany(\n",
    "    ''' Insert into employees(name,age,department) \n",
    "    values(?,?,?)\n",
    "''' , series\n",
    ")\n",
    "\n",
    "\n",
    "connection.commit()"
   ]
  },
  {
   "cell_type": "code",
   "execution_count": 16,
   "metadata": {},
   "outputs": [],
   "source": [
    "connection.close()"
   ]
  }
 ],
 "metadata": {
  "kernelspec": {
   "display_name": "environment",
   "language": "python",
   "name": "python3"
  },
  "language_info": {
   "codemirror_mode": {
    "name": "ipython",
    "version": 3
   },
   "file_extension": ".py",
   "mimetype": "text/x-python",
   "name": "python",
   "nbconvert_exporter": "python",
   "pygments_lexer": "ipython3",
   "version": "3.13.0"
  },
  "orig_nbformat": 4
 },
 "nbformat": 4,
 "nbformat_minor": 2
}
