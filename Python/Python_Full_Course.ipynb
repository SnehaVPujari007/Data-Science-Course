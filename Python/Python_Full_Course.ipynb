{
 "cells": [
  {
   "cell_type": "code",
   "execution_count": 2,
   "metadata": {},
   "outputs": [
    {
     "name": "stdout",
     "output_type": "stream",
     "text": [
      "Sneha\n",
      "Pujari\n"
     ]
    }
   ],
   "source": [
    "## Basic Syntax Rules In python \n",
    "## Case sensitivity \n",
    "name = \"Sneha\"\n",
    "Name = \"Pujari\"\n",
    "\n",
    "\n",
    "print(name)\n",
    "print(Name)\n"
   ]
  },
  {
   "cell_type": "code",
   "execution_count": 3,
   "metadata": {},
   "outputs": [
    {
     "name": "stdout",
     "output_type": "stream",
     "text": [
      "Good,indentation explained\n"
     ]
    }
   ],
   "source": [
    "## indentation\n",
    "age = 32 \n",
    "if age > 30 :\n",
    "    print(\"Good,indentation explained\")"
   ]
  },
  {
   "cell_type": "code",
   "execution_count": 4,
   "metadata": {},
   "outputs": [
    {
     "name": "stdout",
     "output_type": "stream",
     "text": [
      "43\n"
     ]
    }
   ],
   "source": [
    "## Line Continuation\n",
    "\n",
    "total = 1+2+3+4+5+6+7+\\\n",
    "4+5+6\n",
    "\n",
    "print(total)"
   ]
  },
  {
   "cell_type": "code",
   "execution_count": 5,
   "metadata": {},
   "outputs": [
    {
     "name": "stdout",
     "output_type": "stream",
     "text": [
      "15\n"
     ]
    }
   ],
   "source": [
    "## Multiple Statements on a single line\n",
    "\n",
    "x=5;y=10;z=x+y\n",
    "print(z)"
   ]
  },
  {
   "cell_type": "code",
   "execution_count": 6,
   "metadata": {},
   "outputs": [],
   "source": [
    "##Understand Semantics in Python\n",
    "# variable assignment \n",
    "age = 32 \n",
    "name = \"Sneha\" ##name is a string"
   ]
  },
  {
   "cell_type": "code",
   "execution_count": 7,
   "metadata": {},
   "outputs": [
    {
     "data": {
      "text/plain": [
       "int"
      ]
     },
     "execution_count": 7,
     "metadata": {},
     "output_type": "execute_result"
    }
   ],
   "source": [
    "## Type inference\n",
    "type(age)"
   ]
  },
  {
   "cell_type": "markdown",
   "metadata": {},
   "source": [
    "## Variables"
   ]
  },
  {
   "cell_type": "markdown",
   "metadata": {},
   "source": [
    "It is temporary storage of the data "
   ]
  },
  {
   "cell_type": "code",
   "execution_count": 8,
   "metadata": {},
   "outputs": [
    {
     "name": "stdout",
     "output_type": "stream",
     "text": [
      "age : 22\n",
      "height:  4.9\n",
      "name: Sneha\n",
      "is_student: True\n"
     ]
    }
   ],
   "source": [
    "## declaring and Assigning Variables\n",
    "age = 22\n",
    "height = 4.9\n",
    "name = \"Sneha\"\n",
    "is_student = True \n",
    "\n",
    "\n",
    "# printing the variables \n",
    "\n",
    "print(\"age :\",age)\n",
    "print(\"height: \",height)\n",
    "print(\"name:\",name)\n",
    "print(\"is_student:\",is_student)"
   ]
  },
  {
   "cell_type": "code",
   "execution_count": 9,
   "metadata": {},
   "outputs": [],
   "source": [
    "## Naming Conventions\n",
    "## Variables must start with letters or underscore '_'\n",
    "## variables names should be descriptive\n",
    "## they are case sensitive\n",
    "## valid variable names\n",
    "\n",
    "\n",
    "first_name = \"Sneha\"\n",
    "last_name = \"Pujari\"\n"
   ]
  },
  {
   "cell_type": "code",
   "execution_count": 10,
   "metadata": {},
   "outputs": [],
   "source": [
    "# Invalid variable names\n",
    "\n",
    "#2age = 89\n",
    "\n",
    "#print(2age)"
   ]
  },
  {
   "cell_type": "code",
   "execution_count": 11,
   "metadata": {},
   "outputs": [
    {
     "name": "stdout",
     "output_type": "stream",
     "text": [
      "Sneha\n",
      "Pujari\n"
     ]
    },
    {
     "data": {
      "text/plain": [
       "False"
      ]
     },
     "execution_count": 11,
     "metadata": {},
     "output_type": "execute_result"
    }
   ],
   "source": [
    "# Case sensitive \n",
    "\n",
    "Name = \"Sneha\"\n",
    "name = \"Pujari\"\n",
    "\n",
    "\n",
    "print(Name)\n",
    "print(name)\n",
    "\n",
    "\n",
    "Name == name \n",
    "\n"
   ]
  },
  {
   "cell_type": "code",
   "execution_count": 12,
   "metadata": {},
   "outputs": [
    {
     "name": "stdout",
     "output_type": "stream",
     "text": [
      "<class 'str'>\n"
     ]
    }
   ],
   "source": [
    "# understanding data types \n",
    "\n",
    "age = 22 #int\n",
    "\n",
    "height = 4.9  #float\n",
    "\n",
    "name = \"Sneha\"  #String \n",
    "\n",
    "is_student = True       #Boolean \n",
    "\n",
    "print(type(name))\n"
   ]
  },
  {
   "cell_type": "code",
   "execution_count": 13,
   "metadata": {},
   "outputs": [
    {
     "data": {
      "text/plain": [
       "float"
      ]
     },
     "execution_count": 13,
     "metadata": {},
     "output_type": "execute_result"
    }
   ],
   "source": [
    "## Type checking and conversation \n",
    "\n",
    "\n",
    "type(height)"
   ]
  },
  {
   "cell_type": "code",
   "execution_count": 14,
   "metadata": {},
   "outputs": [
    {
     "name": "stdout",
     "output_type": "stream",
     "text": [
      "22\n",
      "22\n",
      "<class 'int'>\n",
      "<class 'str'>\n"
     ]
    }
   ],
   "source": [
    "age = 22\n",
    "\n",
    "age_str = str(age)\n",
    "\n",
    "\n",
    "print(age)\n",
    "\n",
    "print(age_str)\n",
    "\n",
    "\n",
    "print(type(age))\n",
    "\n",
    "\n",
    "print(type(age_str))"
   ]
  },
  {
   "cell_type": "code",
   "execution_count": 15,
   "metadata": {},
   "outputs": [
    {
     "name": "stdout",
     "output_type": "stream",
     "text": [
      "22\n",
      "<class 'int'>\n"
     ]
    }
   ],
   "source": [
    "age ='22'\n",
    "\n",
    "age_int = int(age)\n",
    "\n",
    "print(age_int)\n",
    "\n",
    "print(type(age_int))"
   ]
  },
  {
   "cell_type": "code",
   "execution_count": 16,
   "metadata": {},
   "outputs": [
    {
     "data": {
      "text/plain": [
       "22.0"
      ]
     },
     "execution_count": 16,
     "metadata": {},
     "output_type": "execute_result"
    }
   ],
   "source": [
    "float(int(age))"
   ]
  },
  {
   "cell_type": "code",
   "execution_count": 17,
   "metadata": {},
   "outputs": [
    {
     "name": "stdout",
     "output_type": "stream",
     "text": [
      "10 <class 'int'>\n",
      "Hello <class 'str'>\n",
      "3.14 <class 'float'>\n",
      "True <class 'bool'>\n"
     ]
    }
   ],
   "source": [
    "## Dynamic Typing \n",
    "## Python allows the type of a variable to change as the program executes \n",
    "\n",
    "var =  10  #int \n",
    "\n",
    "print(var , type(var))\n",
    "\n",
    "\n",
    "var = \"Hello\"\n",
    "\n",
    "print(var,type(var))\n",
    "\n",
    "var = 3.14 \n",
    "\n",
    "print(var,type(var))\n",
    "\n",
    "var = True \n",
    " \n",
    "print(var,type(var))"
   ]
  },
  {
   "cell_type": "code",
   "execution_count": 18,
   "metadata": {},
   "outputs": [
    {
     "name": "stdout",
     "output_type": "stream",
     "text": [
      "11 <class 'int'>\n"
     ]
    }
   ],
   "source": [
    "## Input\n",
    "\n",
    "age =int(input(\"What is your age ?\"))\n",
    "\n",
    "\n",
    "print(age, type(age))"
   ]
  },
  {
   "cell_type": "code",
   "execution_count": 19,
   "metadata": {},
   "outputs": [
    {
     "name": "stdout",
     "output_type": "stream",
     "text": [
      "Sum : 22.0\n",
      "Difference :  0.0\n",
      "Multiplication :  121.0\n",
      "Quotient :  1.0\n"
     ]
    }
   ],
   "source": [
    "## Simple calculator \n",
    "\n",
    "num1 = float(input(\"Enter the First number:\"))\n",
    "num2 = float(input(\"Enter the second number :\"))\n",
    "\n",
    "\n",
    "Sum = num1 + num2 \n",
    "Difference = num1 - num2 \n",
    "Multiplication = num1*num2\n",
    "Quotient = num1/num2\n",
    "\n",
    "print(\"Sum :\",Sum)\n",
    "print(\"Difference : \", Difference)\n",
    "print(\"Multiplication : \" , Multiplication)\n",
    "print(\"Quotient : \", Quotient)"
   ]
  },
  {
   "cell_type": "markdown",
   "metadata": {},
   "source": [
    "## DataTypes "
   ]
  },
  {
   "cell_type": "code",
   "execution_count": 20,
   "metadata": {},
   "outputs": [
    {
     "data": {
      "text/plain": [
       "int"
      ]
     },
     "execution_count": 20,
     "metadata": {},
     "output_type": "execute_result"
    }
   ],
   "source": [
    "## Integer Example\n",
    "\n",
    "age = 35\n",
    "type(age)"
   ]
  },
  {
   "cell_type": "code",
   "execution_count": 21,
   "metadata": {},
   "outputs": [
    {
     "name": "stdout",
     "output_type": "stream",
     "text": [
      "4.89\n",
      "<class 'float'>\n"
     ]
    }
   ],
   "source": [
    "## Floating point datatype \n",
    "\n",
    "height = 4.89\n",
    "\n",
    "\n",
    "print(height)\n",
    "\n",
    "print(type(height))\n",
    "\n"
   ]
  },
  {
   "cell_type": "code",
   "execution_count": 22,
   "metadata": {},
   "outputs": [
    {
     "name": "stdout",
     "output_type": "stream",
     "text": [
      "Krish\n",
      "<class 'str'>\n"
     ]
    }
   ],
   "source": [
    "## string datatype example \n",
    "\n",
    "name = \"Krish\"\n",
    "\n",
    "print(name)\n",
    "\n",
    "print(type(name))"
   ]
  },
  {
   "cell_type": "code",
   "execution_count": 23,
   "metadata": {},
   "outputs": [
    {
     "data": {
      "text/plain": [
       "bool"
      ]
     },
     "execution_count": 23,
     "metadata": {},
     "output_type": "execute_result"
    }
   ],
   "source": [
    "##  boolean Type \n",
    "\n",
    "type(True)"
   ]
  },
  {
   "cell_type": "code",
   "execution_count": 24,
   "metadata": {},
   "outputs": [
    {
     "data": {
      "text/plain": [
       "False"
      ]
     },
     "execution_count": 24,
     "metadata": {},
     "output_type": "execute_result"
    }
   ],
   "source": [
    "is_bool = True \n",
    "is_bool = bool()\n",
    "\n",
    "is_bool"
   ]
  },
  {
   "cell_type": "code",
   "execution_count": 25,
   "metadata": {},
   "outputs": [
    {
     "data": {
      "text/plain": [
       "bool"
      ]
     },
     "execution_count": 25,
     "metadata": {},
     "output_type": "execute_result"
    }
   ],
   "source": [
    "a = 10 \n",
    "b = 10 \n",
    "\n",
    "type(a == b)"
   ]
  },
  {
   "cell_type": "code",
   "execution_count": 26,
   "metadata": {},
   "outputs": [
    {
     "name": "stdout",
     "output_type": "stream",
     "text": [
      "Hello5\n"
     ]
    }
   ],
   "source": [
    "## Type casting\n",
    "\n",
    "result = \"Hello\" + str(5)\n",
    "\n",
    "print(result)"
   ]
  },
  {
   "cell_type": "markdown",
   "metadata": {},
   "source": [
    "## Operators "
   ]
  },
  {
   "cell_type": "code",
   "execution_count": 27,
   "metadata": {},
   "outputs": [
    {
     "name": "stdout",
     "output_type": "stream",
     "text": [
      "15\n",
      "5\n",
      "50\n",
      "2.0\n",
      "2\n",
      "0\n",
      "100000\n"
     ]
    }
   ],
   "source": [
    "##  Arithematic Operators \n",
    "\n",
    "\n",
    "a = 10 \n",
    "b = 5\n",
    "\n",
    "\n",
    "add_result = a+b  # addition\n",
    "sub_result = a-b  #substraction\n",
    "mult_result = a*b  # Multiplication\n",
    "div_result = a/b  # Division\n",
    "floor_div_result = a//b  # floor division  (Quotient Giving)\n",
    "\n",
    "modulus_result = a%b  # moduls Result   (Remainder giving)\n",
    "\n",
    "\n",
    "exponent_result = a**b  # Exponential Result\n",
    "\n",
    "\n",
    "print(add_result)\n",
    "print(sub_result)\n",
    "print(mult_result)\n",
    "print(div_result)\n",
    "print(floor_div_result)\n",
    "print(modulus_result)\n",
    "print(exponent_result)"
   ]
  },
  {
   "cell_type": "code",
   "execution_count": 28,
   "metadata": {},
   "outputs": [
    {
     "data": {
      "text/plain": [
       "True"
      ]
     },
     "execution_count": 28,
     "metadata": {},
     "output_type": "execute_result"
    }
   ],
   "source": [
    "a = 10\n",
    "b = 10 \n",
    "\n",
    "a==b "
   ]
  },
  {
   "cell_type": "code",
   "execution_count": 29,
   "metadata": {},
   "outputs": [
    {
     "data": {
      "text/plain": [
       "True"
      ]
     },
     "execution_count": 29,
     "metadata": {},
     "output_type": "execute_result"
    }
   ],
   "source": [
    "str1 = \"Krish\"\n",
    "str2 = \"Krish\"\n",
    "\n",
    "\n",
    "str1 == str2"
   ]
  },
  {
   "cell_type": "code",
   "execution_count": 30,
   "metadata": {},
   "outputs": [
    {
     "data": {
      "text/plain": [
       "False"
      ]
     },
     "execution_count": 30,
     "metadata": {},
     "output_type": "execute_result"
    }
   ],
   "source": [
    "## not equal the  != \n",
    "\n",
    "\n",
    "str1 != str2 \n"
   ]
  },
  {
   "cell_type": "code",
   "execution_count": 31,
   "metadata": {},
   "outputs": [
    {
     "data": {
      "text/plain": [
       "False"
      ]
     },
     "execution_count": 31,
     "metadata": {},
     "output_type": "execute_result"
    }
   ],
   "source": [
    "# greater than \n",
    "\n",
    "num1 = 45\n",
    "num2 = 55 \n",
    "\n",
    "\n",
    "num1>num2 "
   ]
  },
  {
   "cell_type": "code",
   "execution_count": 32,
   "metadata": {},
   "outputs": [
    {
     "name": "stdout",
     "output_type": "stream",
     "text": [
      "True\n"
     ]
    }
   ],
   "source": [
    "##less than \n",
    "\n",
    "\n",
    "print(num1<num2)"
   ]
  },
  {
   "cell_type": "code",
   "execution_count": 33,
   "metadata": {},
   "outputs": [
    {
     "data": {
      "text/plain": [
       "True"
      ]
     },
     "execution_count": 33,
     "metadata": {},
     "output_type": "execute_result"
    }
   ],
   "source": [
    "## greater than equal to \n",
    "\n",
    "number1 = 45\n",
    "number2 = 45\n",
    "\n",
    "\n",
    "number1 >=number2 "
   ]
  },
  {
   "cell_type": "code",
   "execution_count": 34,
   "metadata": {},
   "outputs": [
    {
     "data": {
      "text/plain": [
       "True"
      ]
     },
     "execution_count": 34,
     "metadata": {},
     "output_type": "execute_result"
    }
   ],
   "source": [
    "## less than equal to \n",
    "\n",
    "number1 = 45\n",
    "number2 = 45\n",
    "\n",
    "\n",
    "number1 <= number2 "
   ]
  },
  {
   "cell_type": "code",
   "execution_count": 35,
   "metadata": {},
   "outputs": [
    {
     "name": "stdout",
     "output_type": "stream",
     "text": [
      "False\n"
     ]
    }
   ],
   "source": [
    "##logical operators\n",
    "\n",
    "## And , Not , Or operators\n",
    "\n",
    "X = True\n",
    "Y = False\n",
    "\n",
    "\n",
    "result =  X and Y\n",
    "\n",
    "\n",
    "\n",
    "print(result)\n",
    "\n",
    "\n",
    "\n"
   ]
  },
  {
   "cell_type": "code",
   "execution_count": 36,
   "metadata": {},
   "outputs": [
    {
     "name": "stdout",
     "output_type": "stream",
     "text": [
      "True\n"
     ]
    }
   ],
   "source": [
    "result = X or Y \n",
    "\n",
    "print(result)\n"
   ]
  },
  {
   "cell_type": "code",
   "execution_count": 37,
   "metadata": {},
   "outputs": [
    {
     "name": "stdout",
     "output_type": "stream",
     "text": [
      "False\n"
     ]
    }
   ],
   "source": [
    "result = not X \n",
    "\n",
    "print(result)\n"
   ]
  },
  {
   "cell_type": "markdown",
   "metadata": {},
   "source": [
    "## Python control Flow "
   ]
  },
  {
   "cell_type": "code",
   "execution_count": 38,
   "metadata": {},
   "outputs": [
    {
     "name": "stdout",
     "output_type": "stream",
     "text": [
      "You are allowed to vote in elections\n"
     ]
    }
   ],
   "source": [
    "## if statement \n",
    "age = 20 \n",
    "\n",
    "if age>= 18:\n",
    "    print(\"You are allowed to vote in elections\")"
   ]
  },
  {
   "cell_type": "code",
   "execution_count": 39,
   "metadata": {},
   "outputs": [
    {
     "name": "stdout",
     "output_type": "stream",
     "text": [
      "You are not allowed to vote in elections\n",
      "Please follow the rules ☝🏽\n"
     ]
    }
   ],
   "source": [
    "## else \n",
    "## the else statement is used when the condition in if is false then it goes for else\n",
    "\n",
    "\n",
    "age = 16 \n",
    "if age >= 18 :\n",
    "    print(\"You are allowed to vote in elections\")\n",
    "else:\n",
    "    print(\"You are not allowed to vote in elections\")\n",
    "\n",
    "print(\"Please follow the rules ☝🏽\")"
   ]
  },
  {
   "cell_type": "code",
   "execution_count": 40,
   "metadata": {},
   "outputs": [
    {
     "name": "stdout",
     "output_type": "stream",
     "text": [
      "You are now onwards eligible for voting \n"
     ]
    }
   ],
   "source": [
    "#elif \n",
    "## elif allows the different condition for eligible \n",
    "age = 18 \n",
    "\n",
    "\n",
    "if age > 18 :\n",
    "    print(\"You are eligible for voting\")\n",
    "elif age == 18 :\n",
    "    print(\"You are now onwards eligible for voting \")\n",
    "else:\n",
    "    print(\"You are minor\")"
   ]
  },
  {
   "cell_type": "code",
   "execution_count": 41,
   "metadata": {},
   "outputs": [
    {
     "name": "stdout",
     "output_type": "stream",
     "text": [
      "The given number is positive\n",
      "Given number : 11 is odd\n"
     ]
    }
   ],
   "source": [
    "## Nested conditional Statements\n",
    "## For Example \n",
    "## To check whether the number even or odd \n",
    "number = int(input(\"Enter your respective number :\"))\n",
    "\n",
    "if number >=0:\n",
    "    print(\"The given number is positive\")\n",
    "    if number%2==0:\n",
    "        print(f\"Given number : {number} is even\")\n",
    "    else :\n",
    "         print(f\"Given number : {number} is odd\")\n",
    "   \n",
    "else:\n",
    "    print(f\"The given number : {number} is zero or negative \")\n",
    "\n",
    "\n",
    "\n"
   ]
  },
  {
   "cell_type": "code",
   "execution_count": 42,
   "metadata": {},
   "outputs": [
    {
     "name": "stdout",
     "output_type": "stream",
     "text": [
      "The given year : 11 comes below 2000\n"
     ]
    }
   ],
   "source": [
    "## Leap year \n",
    "\n",
    "\n",
    "year = int(input(\"Enter the year that comes after 2000 :\"))\n",
    "\n",
    "if year >= 2000 :\n",
    "    print(\"The leap year concept gets applicable\")\n",
    "    if year%4==0:\n",
    "        print(f\"The given year : {year} is a leap year\")\n",
    "    else :\n",
    "        print(f\"The given year : {year} is not leap year\")\n",
    "else : \n",
    "    print(f\"The given year : {year} comes below 2000\")"
   ]
  },
  {
   "cell_type": "code",
   "execution_count": 43,
   "metadata": {},
   "outputs": [
    {
     "name": "stdout",
     "output_type": "stream",
     "text": [
      "0\n",
      "1\n",
      "2\n",
      "3\n",
      "4\n"
     ]
    }
   ],
   "source": [
    "# for loop\n",
    "range(5)\n",
    "for i in range(5):\n",
    "    print(i)"
   ]
  },
  {
   "cell_type": "code",
   "execution_count": 44,
   "metadata": {},
   "outputs": [
    {
     "name": "stdout",
     "output_type": "stream",
     "text": [
      "1\n",
      "2\n",
      "3\n",
      "4\n",
      "5\n"
     ]
    }
   ],
   "source": [
    "for i in range(1,6):\n",
    "    print(i)"
   ]
  },
  {
   "cell_type": "code",
   "execution_count": 45,
   "metadata": {},
   "outputs": [
    {
     "name": "stdout",
     "output_type": "stream",
     "text": [
      "1\n",
      "3\n",
      "5\n",
      "7\n",
      "9\n"
     ]
    }
   ],
   "source": [
    "for i in range(1,10,2):\n",
    "    print(i)"
   ]
  },
  {
   "cell_type": "code",
   "execution_count": 46,
   "metadata": {},
   "outputs": [
    {
     "name": "stdout",
     "output_type": "stream",
     "text": [
      "10\n",
      "8\n",
      "6\n",
      "4\n",
      "2\n"
     ]
    }
   ],
   "source": [
    "for i in range(10,1,-2):\n",
    "    print(i)"
   ]
  },
  {
   "cell_type": "code",
   "execution_count": 47,
   "metadata": {},
   "outputs": [
    {
     "name": "stdout",
     "output_type": "stream",
     "text": [
      "S\n",
      "n\n",
      "e\n",
      "h\n",
      "a\n",
      " \n",
      "P\n",
      "u\n",
      "j\n",
      "a\n",
      "r\n",
      "i\n"
     ]
    }
   ],
   "source": [
    "## For strings\n",
    "\n",
    "str = \"Sneha Pujari\"\n",
    "\n",
    "for i in str:\n",
    "    print(i)"
   ]
  },
  {
   "cell_type": "code",
   "execution_count": 48,
   "metadata": {},
   "outputs": [
    {
     "name": "stdout",
     "output_type": "stream",
     "text": [
      "0\n",
      "1\n",
      "2\n",
      "3\n",
      "4\n",
      "5\n"
     ]
    }
   ],
   "source": [
    "## while loop \n",
    "\n",
    "count = 0 \n",
    "\n",
    "while count <= 5 :\n",
    "    print(count)\n",
    "    count+=1"
   ]
  },
  {
   "cell_type": "code",
   "execution_count": 49,
   "metadata": {},
   "outputs": [
    {
     "name": "stdout",
     "output_type": "stream",
     "text": [
      "0\n"
     ]
    }
   ],
   "source": [
    "count = 0 \n",
    "while count%2==0 :\n",
    "    print(count)\n",
    "    count+=1"
   ]
  },
  {
   "cell_type": "code",
   "execution_count": 50,
   "metadata": {},
   "outputs": [
    {
     "name": "stdout",
     "output_type": "stream",
     "text": [
      "0\n",
      "1\n",
      "2\n",
      "3\n",
      "4\n"
     ]
    }
   ],
   "source": [
    "## Loop Control\n",
    "##break \n",
    "\n",
    "\n",
    "for i in range(10):\n",
    "    if i == 5 :\n",
    "        break\n",
    "    print(i)"
   ]
  },
  {
   "cell_type": "code",
   "execution_count": 51,
   "metadata": {},
   "outputs": [
    {
     "name": "stdout",
     "output_type": "stream",
     "text": [
      "1\n",
      "3\n",
      "5\n",
      "7\n",
      "9\n"
     ]
    }
   ],
   "source": [
    "#Continue \n",
    "for i in range (10):\n",
    "    if i%2==0:\n",
    "        continue\n",
    "    print(i)"
   ]
  },
  {
   "cell_type": "code",
   "execution_count": 52,
   "metadata": {},
   "outputs": [
    {
     "name": "stdout",
     "output_type": "stream",
     "text": [
      "0\n",
      "1\n",
      "2\n",
      "pass --->\n",
      "3\n",
      "4\n"
     ]
    }
   ],
   "source": [
    "## pass \n",
    "\n",
    "for i in range(5):\n",
    "    if i==3:\n",
    "        print(\"pass --->\")\n",
    "        pass\n",
    "    print(i)"
   ]
  },
  {
   "cell_type": "code",
   "execution_count": 53,
   "metadata": {},
   "outputs": [
    {
     "name": "stdout",
     "output_type": "stream",
     "text": [
      "i:0 and j:0\n",
      "i:0 and j:1\n",
      "i:1 and j:0\n",
      "i:1 and j:1\n",
      "i:2 and j:0\n",
      "i:2 and j:1\n"
     ]
    }
   ],
   "source": [
    "## Nested Loop \n",
    "for i in range(3):\n",
    "    for j in range(2):\n",
    "        print(f\"i:{i} and j:{j}\")"
   ]
  },
  {
   "cell_type": "code",
   "execution_count": 54,
   "metadata": {},
   "outputs": [
    {
     "name": "stdout",
     "output_type": "stream",
     "text": [
      "The Sum of 10 numbers is 55\n"
     ]
    }
   ],
   "source": [
    "# the sum of n natural numbers \n",
    "\n",
    "n = 10 \n",
    "count = 1\n",
    "sum = 0\n",
    "\n",
    "while count<= n:\n",
    "    sum = sum + count\n",
    "    count+=1\n",
    "\n",
    "print(f\"The Sum of {n} numbers is\",sum)"
   ]
  },
  {
   "cell_type": "code",
   "execution_count": 55,
   "metadata": {},
   "outputs": [
    {
     "name": "stdout",
     "output_type": "stream",
     "text": [
      "55\n"
     ]
    }
   ],
   "source": [
    "n = 10 \n",
    "count = 1\n",
    "sum = 0\n",
    "\n",
    "for i in range(1,11):\n",
    "    sum=sum+i\n",
    "print(sum)"
   ]
  },
  {
   "cell_type": "code",
   "execution_count": 56,
   "metadata": {},
   "outputs": [
    {
     "name": "stdout",
     "output_type": "stream",
     "text": [
      "2\n",
      "3\n",
      "5\n",
      "7\n",
      "11\n",
      "13\n",
      "17\n",
      "19\n",
      "23\n",
      "29\n",
      "31\n",
      "37\n",
      "41\n",
      "43\n",
      "47\n",
      "53\n",
      "59\n",
      "61\n",
      "67\n",
      "71\n",
      "73\n",
      "79\n",
      "83\n",
      "89\n",
      "97\n"
     ]
    }
   ],
   "source": [
    "## prime number \n",
    "for num in range(1,101):\n",
    "    if num > 1:\n",
    "        for i in range(2,num):\n",
    "            if num%i==0:\n",
    "                break\n",
    "\n",
    "        else:\n",
    "            print(num)\n"
   ]
  },
  {
   "cell_type": "markdown",
   "metadata": {},
   "source": [
    "## Lists"
   ]
  },
  {
   "cell_type": "code",
   "execution_count": 57,
   "metadata": {},
   "outputs": [
    {
     "name": "stdout",
     "output_type": "stream",
     "text": [
      "<class 'list'>\n"
     ]
    }
   ],
   "source": [
    "lst = []\n",
    "\n",
    "print(type(lst\n",
    "           ))"
   ]
  },
  {
   "cell_type": "code",
   "execution_count": 58,
   "metadata": {},
   "outputs": [
    {
     "name": "stdout",
     "output_type": "stream",
     "text": [
      "['Krish', 'Jack', 'Jacob', 1, 2, 3, 4, 5]\n"
     ]
    }
   ],
   "source": [
    "names = [\"Krish\",\"Jack\",\"Jacob\",1,2,3,4,5]\n",
    "print(names)"
   ]
  },
  {
   "cell_type": "code",
   "execution_count": 59,
   "metadata": {},
   "outputs": [
    {
     "name": "stdout",
     "output_type": "stream",
     "text": [
      "[1, 'Hello', 3.14, True]\n"
     ]
    }
   ],
   "source": [
    "mixed_list = [1,\"Hello\",3.14,True]\n",
    "print(mixed_list)"
   ]
  },
  {
   "cell_type": "code",
   "execution_count": 60,
   "metadata": {},
   "outputs": [],
   "source": [
    "## Accessing List Elements\n",
    "\n",
    "fruits = [\"apple\",\"banana\",\"cherry\",\"kiwi\",\"gauva\"]"
   ]
  },
  {
   "cell_type": "code",
   "execution_count": 61,
   "metadata": {},
   "outputs": [
    {
     "name": "stdout",
     "output_type": "stream",
     "text": [
      "apple\n",
      "cherry\n",
      "gauva\n",
      "gauva\n"
     ]
    }
   ],
   "source": [
    "print(fruits[0])\n",
    "print(fruits[2])\n",
    "print(fruits[4])\n",
    "print(fruits[-1])"
   ]
  },
  {
   "cell_type": "code",
   "execution_count": 62,
   "metadata": {},
   "outputs": [
    {
     "name": "stdout",
     "output_type": "stream",
     "text": [
      "['banana', 'cherry', 'kiwi', 'gauva']\n",
      "['banana', 'cherry']\n",
      "['gauva']\n"
     ]
    }
   ],
   "source": [
    "print(fruits[1:])\n",
    "print(fruits[1:3])\n",
    "print(fruits[-1:])"
   ]
  },
  {
   "cell_type": "code",
   "execution_count": 63,
   "metadata": {},
   "outputs": [
    {
     "name": "stdout",
     "output_type": "stream",
     "text": [
      "['apple', 'watermelon', 'cherry', 'kiwi', 'gauva']\n"
     ]
    }
   ],
   "source": [
    "fruits[1] = \"watermelon\"\n",
    "print(fruits)"
   ]
  },
  {
   "cell_type": "code",
   "execution_count": 64,
   "metadata": {},
   "outputs": [
    {
     "name": "stdout",
     "output_type": "stream",
     "text": [
      "['apple', 'watermelon', 'cherry', 'kiwi', 'gauva', 'orange']\n"
     ]
    }
   ],
   "source": [
    "## List methods\n",
    "\n",
    "fruits.append(\"orange\")\n",
    "print(fruits)"
   ]
  },
  {
   "cell_type": "code",
   "execution_count": 65,
   "metadata": {},
   "outputs": [
    {
     "name": "stdout",
     "output_type": "stream",
     "text": [
      "['apple', 'banana', 'watermelon', 'cherry', 'kiwi', 'gauva', 'orange']\n"
     ]
    }
   ],
   "source": [
    "fruits.insert(1,\"banana\")\n",
    "\n",
    "print(fruits)"
   ]
  },
  {
   "cell_type": "code",
   "execution_count": 66,
   "metadata": {},
   "outputs": [
    {
     "name": "stdout",
     "output_type": "stream",
     "text": [
      "['apple', 'banana', 'banana', 'watermelon', 'cherry', 'kiwi', 'gauva', 'orange']\n"
     ]
    }
   ],
   "source": [
    "fruits.insert(1,\"banana\")\n",
    "\n",
    "print(fruits)"
   ]
  },
  {
   "cell_type": "code",
   "execution_count": 67,
   "metadata": {},
   "outputs": [
    {
     "name": "stdout",
     "output_type": "stream",
     "text": [
      "['apple', 'banana', 'watermelon', 'cherry', 'kiwi', 'gauva', 'orange']\n"
     ]
    }
   ],
   "source": [
    "fruits.remove(\"banana\")  # it removes at the occurance of the output \n",
    "print(fruits)"
   ]
  },
  {
   "cell_type": "code",
   "execution_count": 68,
   "metadata": {},
   "outputs": [
    {
     "name": "stdout",
     "output_type": "stream",
     "text": [
      "orange\n",
      "['apple', 'banana', 'watermelon', 'cherry', 'kiwi', 'gauva']\n"
     ]
    }
   ],
   "source": [
    "# removing the last item in the list and return the last element\n",
    "\n",
    "popped_fruits =fruits.pop()\n",
    "print(popped_fruits)\n",
    "\n",
    "print(fruits)"
   ]
  },
  {
   "cell_type": "code",
   "execution_count": 69,
   "metadata": {},
   "outputs": [
    {
     "name": "stdout",
     "output_type": "stream",
     "text": [
      "3\n"
     ]
    }
   ],
   "source": [
    "index = fruits.index(\"cherry\")\n",
    "print(index)"
   ]
  },
  {
   "cell_type": "code",
   "execution_count": 70,
   "metadata": {},
   "outputs": [
    {
     "name": "stdout",
     "output_type": "stream",
     "text": [
      "0\n"
     ]
    }
   ],
   "source": [
    "count = fruits.count(\"Banana\")\n",
    "print(count)"
   ]
  },
  {
   "cell_type": "code",
   "execution_count": 71,
   "metadata": {},
   "outputs": [],
   "source": [
    "fruits.sort()"
   ]
  },
  {
   "cell_type": "code",
   "execution_count": 72,
   "metadata": {},
   "outputs": [
    {
     "data": {
      "text/plain": [
       "['apple', 'banana', 'cherry', 'gauva', 'kiwi', 'watermelon']"
      ]
     },
     "execution_count": 72,
     "metadata": {},
     "output_type": "execute_result"
    }
   ],
   "source": [
    "fruits"
   ]
  },
  {
   "cell_type": "code",
   "execution_count": 73,
   "metadata": {},
   "outputs": [
    {
     "name": "stdout",
     "output_type": "stream",
     "text": [
      "[]\n"
     ]
    }
   ],
   "source": [
    "fruits.clear()\n",
    "print(fruits)"
   ]
  },
  {
   "cell_type": "code",
   "execution_count": 74,
   "metadata": {},
   "outputs": [
    {
     "name": "stdout",
     "output_type": "stream",
     "text": [
      "[3, 4, 5]\n",
      "[1, 2, 3, 4, 5]\n",
      "[6, 7, 8, 9, 10]\n",
      "[1, 3, 5, 7, 9]\n",
      "[10, 9, 8, 7, 6, 5, 4, 3, 2, 1]\n"
     ]
    }
   ],
   "source": [
    "## slicing List \n",
    "\n",
    "numbers = [1,2,3,4,5,6,7,8,9,10]\n",
    "\n",
    "print(numbers[2:5])\n",
    "print(numbers[:5])\n",
    "print(numbers[5:])\n",
    "print(numbers[::2])\n",
    "print(numbers[::-1])"
   ]
  },
  {
   "cell_type": "code",
   "execution_count": 75,
   "metadata": {},
   "outputs": [
    {
     "name": "stdout",
     "output_type": "stream",
     "text": [
      "1\n",
      "2\n",
      "3\n",
      "4\n",
      "5\n",
      "6\n",
      "7\n",
      "8\n",
      "9\n",
      "10\n"
     ]
    }
   ],
   "source": [
    "## iterating over list\n",
    "\n",
    "for number in numbers:\n",
    "    print(number)"
   ]
  },
  {
   "cell_type": "code",
   "execution_count": 76,
   "metadata": {},
   "outputs": [
    {
     "name": "stdout",
     "output_type": "stream",
     "text": [
      "0 1\n",
      "1 2\n",
      "2 3\n",
      "3 4\n",
      "4 5\n",
      "5 6\n",
      "6 7\n",
      "7 8\n",
      "8 9\n",
      "9 10\n"
     ]
    }
   ],
   "source": [
    "for index,number in enumerate(numbers):\n",
    "    print(index,number)\n",
    "    "
   ]
  },
  {
   "cell_type": "code",
   "execution_count": 77,
   "metadata": {},
   "outputs": [
    {
     "name": "stdout",
     "output_type": "stream",
     "text": [
      "[0, 1, 4, 9, 16, 25, 36, 49, 64, 81]\n"
     ]
    }
   ],
   "source": [
    "## list comprehension\n",
    "\n",
    "lst = []\n",
    "for x in range(10):\n",
    "    lst.append(x**2)\n",
    "print(lst)"
   ]
  },
  {
   "cell_type": "code",
   "execution_count": 78,
   "metadata": {},
   "outputs": [
    {
     "data": {
      "text/plain": [
       "[0, 1, 4, 9, 16, 25, 36, 49, 64, 81]"
      ]
     },
     "execution_count": 78,
     "metadata": {},
     "output_type": "execute_result"
    }
   ],
   "source": [
    "[x**2 for x in range(10)]"
   ]
  },
  {
   "cell_type": "markdown",
   "metadata": {},
   "source": [
    "####  list comphrension\n",
    "\n",
    "[expression for item in iterable ]"
   ]
  },
  {
   "cell_type": "code",
   "execution_count": 79,
   "metadata": {},
   "outputs": [
    {
     "name": "stdout",
     "output_type": "stream",
     "text": [
      "[0, 1, 4, 9, 16, 25, 36, 49, 64, 81]\n"
     ]
    }
   ],
   "source": [
    "## basic comprehsion\n",
    "\n",
    "square = [num**2 for num in range(10)]\n",
    "\n",
    "print(square)\n"
   ]
  },
  {
   "cell_type": "code",
   "execution_count": 80,
   "metadata": {},
   "outputs": [
    {
     "name": "stdout",
     "output_type": "stream",
     "text": [
      "[0, 2, 4, 6, 8]\n"
     ]
    }
   ],
   "source": [
    "## list comprehsion with condition\n",
    "\n",
    "lst = []\n",
    "for i in range(10):\n",
    "    if i%2==0:\n",
    "        lst.append(i)\n",
    "\n",
    "print(lst)"
   ]
  },
  {
   "cell_type": "markdown",
   "metadata": {},
   "source": [
    "### list comprehsion with condition\n",
    "\n",
    "\n",
    "[expression for item in iterable if condition]"
   ]
  },
  {
   "cell_type": "code",
   "execution_count": 81,
   "metadata": {},
   "outputs": [
    {
     "name": "stdout",
     "output_type": "stream",
     "text": [
      "[0, 2, 4, 6, 8]\n"
     ]
    }
   ],
   "source": [
    "even_numbers = [num for num in range(10) if num%2==0]\n",
    "print(even_numbers)"
   ]
  },
  {
   "cell_type": "code",
   "execution_count": 82,
   "metadata": {},
   "outputs": [
    {
     "name": "stdout",
     "output_type": "stream",
     "text": [
      "[[1, 'a'], [1, 'b'], [1, 'c'], [1, 'd'], [2, 'a'], [2, 'b'], [2, 'c'], [2, 'd'], [3, 'a'], [3, 'b'], [3, 'c'], [3, 'd'], [4, 'a'], [4, 'b'], [4, 'c'], [4, 'd']]\n"
     ]
    }
   ],
   "source": [
    "## Nested List Comprehension\n",
    "\n",
    "lst = [1,2,3,4]\n",
    "lst2 = ['a','b','c','d']\n",
    "\n",
    "pair = [[i,j] for i in lst for j in lst2]\n",
    "print(pair)"
   ]
  },
  {
   "cell_type": "code",
   "execution_count": 83,
   "metadata": {},
   "outputs": [
    {
     "name": "stdout",
     "output_type": "stream",
     "text": [
      "[5, 5, 6, 4, 13]\n"
     ]
    }
   ],
   "source": [
    "## list comprehension with function calls\n",
    "\n",
    "words = [\"Hello\",\"world\",\"python\",\"list\",\"comprehension\"]\n",
    "lengths = [len(word) for word in words]\n",
    "print(lengths)"
   ]
  },
  {
   "cell_type": "code",
   "execution_count": 84,
   "metadata": {},
   "outputs": [
    {
     "name": "stdout",
     "output_type": "stream",
     "text": [
      "()\n",
      "<class 'tuple'>\n"
     ]
    }
   ],
   "source": [
    "## tuples\n",
    "\n",
    "\n",
    "empty_tuple = ()\n",
    "print(empty_tuple)\n",
    "print(type(empty_tuple))"
   ]
  },
  {
   "cell_type": "code",
   "execution_count": 85,
   "metadata": {},
   "outputs": [
    {
     "name": "stdout",
     "output_type": "stream",
     "text": [
      "<class 'list'>\n",
      "<class 'tuple'>\n"
     ]
    }
   ],
   "source": [
    "lst = list()\n",
    "print(type(lst))\n",
    "tpl =  tuple()\n",
    "print(type(tpl))"
   ]
  },
  {
   "cell_type": "code",
   "execution_count": 86,
   "metadata": {},
   "outputs": [
    {
     "data": {
      "text/plain": [
       "[1, 2, 3, 4, 4, 4]"
      ]
     },
     "execution_count": 86,
     "metadata": {},
     "output_type": "execute_result"
    }
   ],
   "source": [
    "list((1,2,3,4,4,4))"
   ]
  },
  {
   "cell_type": "code",
   "execution_count": 87,
   "metadata": {},
   "outputs": [
    {
     "name": "stdout",
     "output_type": "stream",
     "text": [
      "(1, 'Hello World', 3.14, True)\n"
     ]
    }
   ],
   "source": [
    "mixed_tuple = (1,\"Hello World\",3.14,True)\n",
    "\n",
    "print(mixed_tuple)"
   ]
  },
  {
   "cell_type": "code",
   "execution_count": 88,
   "metadata": {},
   "outputs": [
    {
     "data": {
      "text/plain": [
       "(1, 2, 3, 4, 5, 6)"
      ]
     },
     "execution_count": 88,
     "metadata": {},
     "output_type": "execute_result"
    }
   ],
   "source": [
    "numbers = (1,2,3,4,5,6)\n",
    "numbers"
   ]
  },
  {
   "cell_type": "code",
   "execution_count": 89,
   "metadata": {},
   "outputs": [
    {
     "data": {
      "text/plain": [
       "6"
      ]
     },
     "execution_count": 89,
     "metadata": {},
     "output_type": "execute_result"
    }
   ],
   "source": [
    "numbers[2]\n",
    "numbers[-1]"
   ]
  },
  {
   "cell_type": "code",
   "execution_count": 90,
   "metadata": {},
   "outputs": [
    {
     "data": {
      "text/plain": [
       "(1, 2, 3, 4)"
      ]
     },
     "execution_count": 90,
     "metadata": {},
     "output_type": "execute_result"
    }
   ],
   "source": [
    "numbers[0:4]"
   ]
  },
  {
   "cell_type": "code",
   "execution_count": 91,
   "metadata": {},
   "outputs": [
    {
     "name": "stdout",
     "output_type": "stream",
     "text": [
      "(1, 2, 3, 4, 5, 6, 1, 'Hello World', 3.14, True)\n"
     ]
    }
   ],
   "source": [
    "## tuple operators\n",
    "concatention_tuple = numbers + mixed_tuple \n",
    "print(concatention_tuple)"
   ]
  },
  {
   "cell_type": "code",
   "execution_count": 92,
   "metadata": {},
   "outputs": [
    {
     "data": {
      "text/plain": [
       "(1,\n",
       " 'Hello World',\n",
       " 3.14,\n",
       " True,\n",
       " 1,\n",
       " 'Hello World',\n",
       " 3.14,\n",
       " True,\n",
       " 1,\n",
       " 'Hello World',\n",
       " 3.14,\n",
       " True)"
      ]
     },
     "execution_count": 92,
     "metadata": {},
     "output_type": "execute_result"
    }
   ],
   "source": [
    "mixed_tuple*3"
   ]
  },
  {
   "cell_type": "code",
   "execution_count": 93,
   "metadata": {},
   "outputs": [
    {
     "data": {
      "text/plain": [
       "(1, 2, 3, 4, 5, 6, 1, 2, 3, 4, 5, 6, 1, 2, 3, 4, 5, 6)"
      ]
     },
     "execution_count": 93,
     "metadata": {},
     "output_type": "execute_result"
    }
   ],
   "source": [
    "numbers*3"
   ]
  },
  {
   "cell_type": "code",
   "execution_count": 94,
   "metadata": {},
   "outputs": [
    {
     "name": "stdout",
     "output_type": "stream",
     "text": [
      "[1, 2, 3, 4, 5]\n",
      "[1, 'Krish', 3, 4, 5]\n"
     ]
    }
   ],
   "source": [
    "## immutable nature of Tuples\n",
    "# they cannot be changed once assigned \n",
    "\n",
    "\n",
    "lst = [1,2,3,4,5]\n",
    "\n",
    "print(lst)\n",
    "\n",
    "\n",
    "lst[1] = \"Krish\"\n",
    "print(lst)"
   ]
  },
  {
   "cell_type": "code",
   "execution_count": 95,
   "metadata": {},
   "outputs": [
    {
     "ename": "TypeError",
     "evalue": "'tuple' object does not support item assignment",
     "output_type": "error",
     "traceback": [
      "\u001b[0;31m---------------------------------------------------------------------------\u001b[0m",
      "\u001b[0;31mTypeError\u001b[0m                                 Traceback (most recent call last)",
      "Cell \u001b[0;32mIn[95], line 1\u001b[0m\n\u001b[0;32m----> 1\u001b[0m \u001b[43mnumbers\u001b[49m\u001b[43m[\u001b[49m\u001b[38;5;241;43m1\u001b[39;49m\u001b[43m]\u001b[49m\u001b[38;5;241m=\u001b[39m \u001b[38;5;124m\"\u001b[39m\u001b[38;5;124mKrish\u001b[39m\u001b[38;5;124m\"\u001b[39m\n",
      "\u001b[0;31mTypeError\u001b[0m: 'tuple' object does not support item assignment"
     ]
    }
   ],
   "source": [
    "numbers[1]= \"Krish\"\n"
   ]
  },
  {
   "cell_type": "code",
   "execution_count": null,
   "metadata": {},
   "outputs": [
    {
     "name": "stdout",
     "output_type": "stream",
     "text": [
      "1\n",
      "2\n"
     ]
    }
   ],
   "source": [
    "## tuple method \n",
    "\n",
    "print(numbers.count(1))\n",
    "print(numbers.index(3))"
   ]
  },
  {
   "cell_type": "code",
   "execution_count": null,
   "metadata": {},
   "outputs": [
    {
     "name": "stdout",
     "output_type": "stream",
     "text": [
      "(1, 'Hello ', 3.14)\n"
     ]
    }
   ],
   "source": [
    "## packing and unpacking tuple \n",
    "## packing\n",
    "packed_tuple = 1 , \"Hello \" , 3.14\n",
    "print(packed_tuple)"
   ]
  },
  {
   "cell_type": "code",
   "execution_count": null,
   "metadata": {},
   "outputs": [
    {
     "name": "stdout",
     "output_type": "stream",
     "text": [
      "1\n",
      "Hello \n",
      "3.14\n"
     ]
    }
   ],
   "source": [
    "# unpacking\n",
    "a,b,c = packed_tuple\n",
    "print(a)\n",
    "print(b)\n",
    "print(c)"
   ]
  },
  {
   "cell_type": "code",
   "execution_count": null,
   "metadata": {},
   "outputs": [
    {
     "name": "stdout",
     "output_type": "stream",
     "text": [
      "1\n",
      "[2, 3, 4, 5]\n",
      "6\n"
     ]
    }
   ],
   "source": [
    "#unpacking \n",
    "\n",
    "numbers = (1,2,3,4,5,6)\n",
    "first, *middle,last = numbers\n",
    "print(first)\n",
    "print(middle)\n",
    "print(last)"
   ]
  },
  {
   "cell_type": "code",
   "execution_count": null,
   "metadata": {},
   "outputs": [
    {
     "data": {
      "text/plain": [
       "[1, 2, 3, 4]"
      ]
     },
     "execution_count": 99,
     "metadata": {},
     "output_type": "execute_result"
    }
   ],
   "source": [
    "## Nested tuple \n",
    "## nested List\n",
    "\n",
    "lst = [ [1,2,3,4],[6,7,8, 9],[1,\"hello\",3.14,\"c\"]]\n",
    "lst[0][0:]"
   ]
  },
  {
   "cell_type": "code",
   "execution_count": null,
   "metadata": {},
   "outputs": [
    {
     "data": {
      "text/plain": [
       "[1, 'hello', 3.14]"
      ]
     },
     "execution_count": 100,
     "metadata": {},
     "output_type": "execute_result"
    }
   ],
   "source": [
    "lst = [ [1,2,3,4],[6,7,8, 9],[1,\"hello\",3.14,\"c\"]]\n",
    "lst[2][0:3]"
   ]
  },
  {
   "cell_type": "code",
   "execution_count": null,
   "metadata": {},
   "outputs": [
    {
     "name": "stdout",
     "output_type": "stream",
     "text": [
      "(1, 2, 3)\n",
      "c\n"
     ]
    }
   ],
   "source": [
    "nested_tuple = ((1,2,3),(\"a\",\"b\",\"c\"),(True,False))\n",
    "print(nested_tuple[0])\n",
    "print(nested_tuple[1][2])"
   ]
  },
  {
   "cell_type": "code",
   "execution_count": null,
   "metadata": {},
   "outputs": [
    {
     "name": "stdout",
     "output_type": "stream",
     "text": [
      "1 2 3 \n",
      "a b c \n",
      "True False \n"
     ]
    }
   ],
   "source": [
    "for sub_tuple in nested_tuple:\n",
    "    for item in sub_tuple:\n",
    "        print(item,end=\" \")\n",
    "    print()"
   ]
  },
  {
   "cell_type": "code",
   "execution_count": null,
   "metadata": {},
   "outputs": [
    {
     "name": "stdout",
     "output_type": "stream",
     "text": [
      "{1, 2, 3, 4, 5}\n",
      "<class 'set'>\n"
     ]
    }
   ],
   "source": [
    "## Sets \n",
    "my_set = {1,2,3,4,5}\n",
    "print(my_set)\n",
    "print(type(my_set))"
   ]
  },
  {
   "cell_type": "code",
   "execution_count": null,
   "metadata": {},
   "outputs": [
    {
     "name": "stdout",
     "output_type": "stream",
     "text": [
      "{1, 2, 3, 4, 5, 6, 9}\n",
      "<class 'set'>\n"
     ]
    }
   ],
   "source": [
    "my_empty_set = set([1,2,3,4,4,5,5,6,9,9])\n",
    "\n",
    "print(my_empty_set)\n",
    "\n",
    "print(type(my_empty_set))"
   ]
  },
  {
   "cell_type": "code",
   "execution_count": null,
   "metadata": {},
   "outputs": [
    {
     "name": "stdout",
     "output_type": "stream",
     "text": [
      "{1, 2, 3, 4, 5, 6, 7}\n"
     ]
    }
   ],
   "source": [
    "my_set = {1,2,3,4,5,6}\n",
    "my_set.add(7)\n",
    "print(my_set)"
   ]
  },
  {
   "cell_type": "code",
   "execution_count": null,
   "metadata": {},
   "outputs": [
    {
     "name": "stdout",
     "output_type": "stream",
     "text": [
      "{1, 2, 4, 5, 6, 7}\n"
     ]
    }
   ],
   "source": [
    "## remove the elements from a set\n",
    "\n",
    "my_set.remove(3)\n",
    "\n",
    "print(my_set)"
   ]
  },
  {
   "cell_type": "code",
   "execution_count": null,
   "metadata": {},
   "outputs": [
    {
     "name": "stdout",
     "output_type": "stream",
     "text": [
      "{1, 2, 4, 5, 6, 7}\n"
     ]
    }
   ],
   "source": [
    "my_set.discard(11)\n",
    "print(my_set)"
   ]
  },
  {
   "cell_type": "code",
   "execution_count": null,
   "metadata": {},
   "outputs": [
    {
     "name": "stdout",
     "output_type": "stream",
     "text": [
      "1\n",
      "{2, 4, 5, 6, 7}\n"
     ]
    }
   ],
   "source": [
    "## pop method \n",
    "removed_element = my_set.pop()\n",
    "print(removed_element)\n",
    "print(my_set)"
   ]
  },
  {
   "cell_type": "code",
   "execution_count": null,
   "metadata": {},
   "outputs": [],
   "source": [
    "my_set.clear()"
   ]
  },
  {
   "cell_type": "code",
   "execution_count": null,
   "metadata": {},
   "outputs": [
    {
     "name": "stdout",
     "output_type": "stream",
     "text": [
      "True\n",
      "False\n"
     ]
    }
   ],
   "source": [
    "##  Set memebership Test\n",
    "my_set = {1,2,3,4,5}\n",
    "print(3 in my_set)\n",
    "print(10 in my_set)"
   ]
  },
  {
   "cell_type": "code",
   "execution_count": null,
   "metadata": {},
   "outputs": [
    {
     "name": "stdout",
     "output_type": "stream",
     "text": [
      "{1, 2, 3, 4, 5, 6, 7, 8, 9}\n",
      "{4, 5, 6}\n",
      "{4, 5, 6}\n"
     ]
    }
   ],
   "source": [
    "## Mathematical Operation\n",
    "set1 = {1,2,3,4,5,6}\n",
    "set2 = {4,5,6,7,8,9}\n",
    "\n",
    "\n",
    "###Union\n",
    "union_set = set1.union(set2)\n",
    "print(union_set)\n",
    "\n",
    "\n",
    "### intersection\n",
    "\n",
    "intersection_set = set1.intersection(set2)\n",
    "\n",
    "print(intersection_set)\n",
    "\n",
    "\n",
    "set1.intersection_update(set2)\n",
    "print(set1)\n"
   ]
  },
  {
   "cell_type": "code",
   "execution_count": null,
   "metadata": {},
   "outputs": [
    {
     "name": "stdout",
     "output_type": "stream",
     "text": [
      "{1, 2, 3}\n"
     ]
    }
   ],
   "source": [
    "set1 = {1,2,3,4,5,6}\n",
    "set2 = {4,5,6,7,8,9}\n",
    "\n",
    "\n",
    "## Difference \n",
    "\n",
    "print(set1.difference(set2))"
   ]
  },
  {
   "cell_type": "code",
   "execution_count": null,
   "metadata": {},
   "outputs": [
    {
     "data": {
      "text/plain": [
       "{1, 2, 3, 4, 5, 6}"
      ]
     },
     "execution_count": 113,
     "metadata": {},
     "output_type": "execute_result"
    }
   ],
   "source": [
    "set1"
   ]
  },
  {
   "cell_type": "code",
   "execution_count": null,
   "metadata": {},
   "outputs": [
    {
     "data": {
      "text/plain": [
       "{1, 2, 3, 7, 8, 9}"
      ]
     },
     "execution_count": 114,
     "metadata": {},
     "output_type": "execute_result"
    }
   ],
   "source": [
    "## Symmetric difference \n",
    "\n",
    "\n",
    "set1.symmetric_difference(set2)"
   ]
  },
  {
   "cell_type": "code",
   "execution_count": null,
   "metadata": {},
   "outputs": [
    {
     "name": "stdout",
     "output_type": "stream",
     "text": [
      "False\n",
      "False\n"
     ]
    }
   ],
   "source": [
    "## Sets method \n",
    "\n",
    "\n",
    "set1 = {1,2,3}\n",
    "set2 = {3,4,5}\n",
    "\n",
    "## is subset\n",
    "\n",
    "\n",
    "print(set1.issubset(set2))\n",
    "\n",
    "print(set1.issuperset(set2))\n",
    "\n"
   ]
  },
  {
   "cell_type": "code",
   "execution_count": null,
   "metadata": {},
   "outputs": [
    {
     "data": {
      "text/plain": [
       "{1, 2, 3, 5}"
      ]
     },
     "execution_count": 116,
     "metadata": {},
     "output_type": "execute_result"
    }
   ],
   "source": [
    "lst = [1,3,5,2,3,3]\n",
    "\n",
    "set(lst)"
   ]
  },
  {
   "cell_type": "code",
   "execution_count": null,
   "metadata": {},
   "outputs": [
    {
     "name": "stdout",
     "output_type": "stream",
     "text": [
      "{'are', 'we', 'discussing', 'this', 'sets', 'In', 'tutorial', 'about'}\n",
      "8\n"
     ]
    }
   ],
   "source": [
    "## counting unique Words in text \n",
    "\n",
    "text = \"In this tutorial we are discussing about sets\"\n",
    "\n",
    "words = text.split()\n",
    "\n",
    "## convert list of words to set to get unique words\n",
    "\n",
    "\n",
    "unique_words = set(words)\n",
    "print(unique_words)\n",
    "print(len(unique_words))\n"
   ]
  },
  {
   "cell_type": "code",
   "execution_count": null,
   "metadata": {},
   "outputs": [
    {
     "name": "stdout",
     "output_type": "stream",
     "text": [
      "{}\n",
      "<class 'dict'>\n"
     ]
    }
   ],
   "source": [
    "##  Dictionaries \n",
    "empty_dict = {}\n",
    "print(empty_dict)\n",
    "print(type(empty_dict))"
   ]
  },
  {
   "cell_type": "code",
   "execution_count": null,
   "metadata": {},
   "outputs": [
    {
     "name": "stdout",
     "output_type": "stream",
     "text": [
      "{'name': 'Sneha', 'age': 22, 'grade': 'A'}\n",
      "<class 'dict'>\n"
     ]
    }
   ],
   "source": [
    "student = {\"name\" : \"Sneha\",\"age\" : 22 , \"grade\" :'A'}\n",
    "print(student)\n",
    "print(type(student))\n"
   ]
  },
  {
   "cell_type": "code",
   "execution_count": null,
   "metadata": {},
   "outputs": [
    {
     "name": "stdout",
     "output_type": "stream",
     "text": [
      "A\n",
      "22\n",
      "A\n",
      "None\n"
     ]
    }
   ],
   "source": [
    "print(student['grade'])\n",
    "print(student['age'])\n",
    "\n",
    "\n",
    "## using get method \n",
    "\n",
    "print(student.get('grade'))\n",
    "print(student.get('last'))"
   ]
  },
  {
   "cell_type": "code",
   "execution_count": null,
   "metadata": {},
   "outputs": [
    {
     "name": "stdout",
     "output_type": "stream",
     "text": [
      "A\n",
      "None\n",
      "Not Available\n"
     ]
    }
   ],
   "source": [
    "\n",
    "print(student.get('grade'))\n",
    "print(student.get('last_name'))\n",
    "print(student.get('last_name','Not Available'))\n"
   ]
  },
  {
   "cell_type": "code",
   "execution_count": null,
   "metadata": {},
   "outputs": [],
   "source": [
    "## Modifying Dictionary elements \n",
    "## Dictionary are mutable , so you can add , update or delete elements "
   ]
  },
  {
   "cell_type": "code",
   "execution_count": null,
   "metadata": {},
   "outputs": [
    {
     "name": "stdout",
     "output_type": "stream",
     "text": [
      "{'name': 'Sneha', 'age': 33, 'grade': 'A'}\n",
      "{'name': 'Sneha', 'age': 33, 'grade': 'A', 'address': 'India'}\n"
     ]
    }
   ],
   "source": [
    "student[\"age\"] = 33\n",
    "print(student)\n",
    "student[\"address\"] = \"India\"\n",
    "print(student)"
   ]
  },
  {
   "cell_type": "code",
   "execution_count": null,
   "metadata": {},
   "outputs": [],
   "source": [
    "student['grade'] = 'A'\n"
   ]
  },
  {
   "cell_type": "code",
   "execution_count": null,
   "metadata": {},
   "outputs": [
    {
     "name": "stdout",
     "output_type": "stream",
     "text": [
      "{'name': 'Sneha', 'age': 33, 'grade': 'A', 'address': 'India'}\n"
     ]
    }
   ],
   "source": [
    "print(student)"
   ]
  },
  {
   "cell_type": "code",
   "execution_count": null,
   "metadata": {},
   "outputs": [],
   "source": [
    "del student['grade'] ## delete key "
   ]
  },
  {
   "cell_type": "code",
   "execution_count": null,
   "metadata": {},
   "outputs": [
    {
     "name": "stdout",
     "output_type": "stream",
     "text": [
      "{'name': 'Sneha', 'age': 33, 'address': 'India'}\n"
     ]
    }
   ],
   "source": [
    "print(student)"
   ]
  },
  {
   "cell_type": "code",
   "execution_count": null,
   "metadata": {},
   "outputs": [
    {
     "name": "stdout",
     "output_type": "stream",
     "text": [
      "dict_keys(['name', 'age', 'address'])\n",
      "dict_values(['Sneha', 33, 'India'])\n",
      "dict_items([('name', 'Sneha'), ('age', 33), ('address', 'India')])\n"
     ]
    }
   ],
   "source": [
    "## Dictionary methods \n",
    "\n",
    "keys = student.keys()\n",
    "print(keys)\n",
    "values = student.values()\n",
    "print(values)\n",
    "\n",
    "\n",
    "items = student.items()\n",
    "\n",
    "print(items)"
   ]
  },
  {
   "cell_type": "code",
   "execution_count": null,
   "metadata": {},
   "outputs": [
    {
     "name": "stdout",
     "output_type": "stream",
     "text": [
      "{'name': 'Sneha', 'age': 33, 'address': 'India'}\n",
      "{'name': 'Sneha', 'age': 33, 'address': 'India'}\n"
     ]
    }
   ],
   "source": [
    "## Shallow copy \n",
    "\n",
    "student_copy = student \n",
    "print(student_copy)\n",
    "print(student)"
   ]
  },
  {
   "cell_type": "code",
   "execution_count": null,
   "metadata": {},
   "outputs": [
    {
     "name": "stdout",
     "output_type": "stream",
     "text": [
      "{'name': 'Krish1', 'age': 33, 'address': 'India'}\n",
      "{'name': 'Krish1', 'age': 33, 'address': 'India'}\n"
     ]
    }
   ],
   "source": [
    "student[\"name\"] = \"Krish1\"\n",
    "print(student)\n",
    "print(student_copy)"
   ]
  },
  {
   "cell_type": "code",
   "execution_count": null,
   "metadata": {},
   "outputs": [
    {
     "name": "stdout",
     "output_type": "stream",
     "text": [
      "{'name': 'Krish1', 'age': 33, 'address': 'India'}\n",
      "{'name': 'Krish1', 'age': 33, 'address': 'India'}\n"
     ]
    }
   ],
   "source": [
    "student_copy1 = student.copy() ##shallow copy \n",
    "print(student_copy1)\n",
    "print(student)"
   ]
  },
  {
   "cell_type": "code",
   "execution_count": null,
   "metadata": {},
   "outputs": [
    {
     "name": "stdout",
     "output_type": "stream",
     "text": [
      "{'name': 'Sneha', 'age': 33, 'address': 'India'}\n",
      "{'name': 'Krish1', 'age': 33, 'address': 'India'}\n"
     ]
    }
   ],
   "source": [
    "student['name'] = \"Sneha\"\n",
    "print(student)\n",
    "print(student_copy1)"
   ]
  },
  {
   "cell_type": "code",
   "execution_count": null,
   "metadata": {},
   "outputs": [
    {
     "name": "stdout",
     "output_type": "stream",
     "text": [
      "name\n",
      "age\n",
      "address\n"
     ]
    }
   ],
   "source": [
    "## Iterating Over Dictionaries\n",
    "## You can use loops to iterate over dictionaries , keys,values or items\n",
    "\n",
    "for keys in student.keys():\n",
    "    print(keys)\n",
    "\n"
   ]
  },
  {
   "cell_type": "code",
   "execution_count": null,
   "metadata": {},
   "outputs": [
    {
     "name": "stdout",
     "output_type": "stream",
     "text": [
      "Sneha\n",
      "33\n",
      "India\n"
     ]
    }
   ],
   "source": [
    "for values in student.values():\n",
    "    print(values)"
   ]
  },
  {
   "cell_type": "code",
   "execution_count": null,
   "metadata": {},
   "outputs": [
    {
     "name": "stdout",
     "output_type": "stream",
     "text": [
      "key : name and values : Sneha\n",
      "key : age and values : 33\n",
      "key : address and values : India\n"
     ]
    }
   ],
   "source": [
    "for key,value in student.items():\n",
    "    print(f\"key : {key} and values : {value}\")"
   ]
  },
  {
   "cell_type": "code",
   "execution_count": null,
   "metadata": {},
   "outputs": [
    {
     "name": "stdout",
     "output_type": "stream",
     "text": [
      "{'student1': {'name': 'Sneha', 'age': 22}, 'student2': {'name': 'Vishal', 'age': 25}, 'student3': {'name': 'Vilas', 'age': 55}}\n"
     ]
    }
   ],
   "source": [
    "## Nested Dictionary \n",
    "\n",
    "students ={\n",
    "    \"student1\" : {\"name\" : \"Sneha\" , \"age\" : 22} ,\n",
    "    \"student2\" : {\"name\" : \"Vishal\" , \"age\" : 25} ,\n",
    "    \"student3\" : {\"name\" : \"Vilas\" , \"age\" : 55}\n",
    "}\n",
    "\n",
    "print(students)"
   ]
  },
  {
   "cell_type": "code",
   "execution_count": null,
   "metadata": {},
   "outputs": [
    {
     "name": "stdout",
     "output_type": "stream",
     "text": [
      "Vishal\n"
     ]
    }
   ],
   "source": [
    "## Accessing the nested dictionaries elements \n",
    "\n",
    "print(students[\"student2\"][\"name\"])"
   ]
  },
  {
   "cell_type": "code",
   "execution_count": null,
   "metadata": {},
   "outputs": [
    {
     "name": "stdout",
     "output_type": "stream",
     "text": [
      "student1 : {'name': 'Sneha', 'age': 22}\n",
      "name:India\n",
      "age:India\n",
      "student2 : {'name': 'Vishal', 'age': 25}\n",
      "name:India\n",
      "age:India\n",
      "student3 : {'name': 'Vilas', 'age': 55}\n",
      "name:India\n",
      "age:India\n"
     ]
    }
   ],
   "source": [
    "#iterating the nested dict\n",
    "for student_id , student_info in students.items():\n",
    "    print(f\"{student_id} : {student_info}\")\n",
    "    for key,values in student_info.items():\n",
    "        \n",
    "        print(f\"{key}:{value}\")"
   ]
  },
  {
   "cell_type": "code",
   "execution_count": null,
   "metadata": {},
   "outputs": [
    {
     "name": "stdout",
     "output_type": "stream",
     "text": [
      "{0: 0, 1: 1, 2: 4, 3: 9, 4: 16}\n"
     ]
    }
   ],
   "source": [
    "## Dictionary Comphrehension\n",
    "\n",
    "squares = {x:x**2 for x in range(5)}\n",
    "print(squares)"
   ]
  },
  {
   "cell_type": "code",
   "execution_count": null,
   "metadata": {},
   "outputs": [
    {
     "name": "stdout",
     "output_type": "stream",
     "text": [
      "{0: 0, 2: 4, 4: 16, 6: 36, 8: 64}\n"
     ]
    }
   ],
   "source": [
    "## Conditional comprehension \n",
    "\n",
    "evens = { x: x**2 for x in range(10) if x%2==0}\n",
    "print(evens)"
   ]
  },
  {
   "cell_type": "code",
   "execution_count": null,
   "metadata": {},
   "outputs": [
    {
     "name": "stdout",
     "output_type": "stream",
     "text": [
      "{1: 1, 2: 2, 3: 3, 4: 4}\n"
     ]
    }
   ],
   "source": [
    "numbers = [1,2,2,3,3,3,4,4,4,4]\n",
    "frequency = {}\n",
    "\n",
    "for number in numbers:\n",
    "    if number in frequency:\n",
    "        frequency[number] +=1\n",
    "    else:\n",
    "        frequency[number]=1\n",
    "print(frequency)"
   ]
  },
  {
   "cell_type": "code",
   "execution_count": null,
   "metadata": {},
   "outputs": [
    {
     "name": "stdout",
     "output_type": "stream",
     "text": [
      "{'a': 1, 'b': 3, 'c': 4}\n"
     ]
    }
   ],
   "source": [
    "## Merge the dictionary \n",
    "\n",
    "dic1 = {\"a\":1 ,\"b\" :2 }\n",
    "dic2 = {\"b\":3 , \"c\": 4}\n",
    "\n",
    "merged_dict = {**dic1,**dic2}\n",
    "\n",
    "print(merged_dict)"
   ]
  },
  {
   "cell_type": "code",
   "execution_count": null,
   "metadata": {},
   "outputs": [
    {
     "name": "stdout",
     "output_type": "stream",
     "text": [
      "Don't forget to pay the utility bills\n",
      "To Do List remaining\n",
      "--Buy Groceries\n",
      "--Pay bills\n",
      "--Schedule meeting\n",
      "--Go For a Run\n"
     ]
    }
   ],
   "source": [
    "## Real world scenerioes\n",
    "\n",
    "to_do_list = [\"Buy Groceries\",\"Clean the house\",\"Pay bills\"]\n",
    "\n",
    "## Adding to task \n",
    "\n",
    "to_do_list.append(\"Schedule meeting\")\n",
    "to_do_list.append(\"Go For a Run\")\n",
    "\n",
    "## Removing a completed task \n",
    "to_do_list.remove(\"Clean the house\")\n",
    "\n",
    "## checking if a task is in task \n",
    "if \"Pay bills\" in to_do_list:\n",
    "    print(\"Don't forget to pay the utility bills\")\n",
    "\n",
    "print(\"To Do List remaining\")\n",
    "for task in to_do_list:\n",
    "    print(f\"--{task}\")\n",
    "\n",
    "\n"
   ]
  },
  {
   "cell_type": "markdown",
   "metadata": {},
   "source": [
    "## Functions\n",
    "\n",
    "\n",
    "it helps a certain code for reusability "
   ]
  },
  {
   "cell_type": "code",
   "execution_count": null,
   "metadata": {},
   "outputs": [],
   "source": [
    "## syntax\n",
    "def function_name(parameters):\n",
    "    \"\"\"docstring \"\"\"\n",
    "    # Function body \n",
    "    return expression"
   ]
  },
  {
   "cell_type": "code",
   "execution_count": null,
   "metadata": {},
   "outputs": [
    {
     "name": "stdout",
     "output_type": "stream",
     "text": [
      "the number is even\n"
     ]
    }
   ],
   "source": [
    "## why functions?\n",
    "num=24\n",
    "if num%2==0:\n",
    "    print(\"the number is even\")\n",
    "else:\n",
    "    print(\"the number is odd\")\n"
   ]
  },
  {
   "cell_type": "code",
   "execution_count": null,
   "metadata": {},
   "outputs": [],
   "source": [
    "def even_or_odd(num):\n",
    "    \"\"\"This function checks the even or odd\"\"\"\n",
    "    if num%2==0:\n",
    "        print(f\"Given number : {num} is even \")\n",
    "    else:\n",
    "        print(f\"Given number : {num} is odd\")"
   ]
  },
  {
   "cell_type": "code",
   "execution_count": null,
   "metadata": {},
   "outputs": [
    {
     "name": "stdout",
     "output_type": "stream",
     "text": [
      "Given number : 100 is even \n"
     ]
    }
   ],
   "source": [
    "## call the function\n",
    "\n",
    "even_or_odd(100)"
   ]
  },
  {
   "cell_type": "code",
   "execution_count": null,
   "metadata": {},
   "outputs": [
    {
     "name": "stdout",
     "output_type": "stream",
     "text": [
      "5\n"
     ]
    }
   ],
   "source": [
    "## multiple parameters\n",
    "\n",
    "def add(a,b):\n",
    "    return a+b\n",
    "\n",
    "result = add(2,3)\n",
    "print(result)"
   ]
  },
  {
   "cell_type": "code",
   "execution_count": null,
   "metadata": {},
   "outputs": [
    {
     "name": "stdout",
     "output_type": "stream",
     "text": [
      "Hello Sneha Pujari Welcome to the paradise\n"
     ]
    }
   ],
   "source": [
    "## default parameters\n",
    "\n",
    "def greet(name=\"Sneha\"):\n",
    "    print(f\"Hello {name} Welcome to the paradise\")\n",
    "\n",
    "greet(\"Sneha Pujari\")"
   ]
  },
  {
   "cell_type": "code",
   "execution_count": null,
   "metadata": {},
   "outputs": [],
   "source": [
    "###  Variable Length Arguments \n",
    "### Positional And Keywords arguments\n",
    "\n",
    "\n",
    "def print_numbers(*args):\n",
    "    for i in args:\n",
    "        print(i)\n",
    "\n"
   ]
  },
  {
   "cell_type": "code",
   "execution_count": null,
   "metadata": {},
   "outputs": [
    {
     "name": "stdout",
     "output_type": "stream",
     "text": [
      "1\n",
      "2\n",
      "3\n",
      "4\n",
      "5\n",
      "6\n",
      "7\n",
      "8\n",
      "9\n",
      "Sneha\n"
     ]
    }
   ],
   "source": [
    "#calling the function\n",
    "\n",
    "\n",
    "print_numbers(1,2,3,4,5,6,7,8,9,\"Sneha\")"
   ]
  },
  {
   "cell_type": "code",
   "execution_count": null,
   "metadata": {},
   "outputs": [],
   "source": [
    "### Keywords  Arguments\n",
    "def print_details(**kwargs):\n",
    "    for key,value in kwargs.items():\n",
    "        print(f\"{key}: {value}\")"
   ]
  },
  {
   "cell_type": "code",
   "execution_count": null,
   "metadata": {},
   "outputs": [
    {
     "name": "stdout",
     "output_type": "stream",
     "text": [
      "name: Sneha\n",
      "age: 32\n",
      "country: India\n"
     ]
    }
   ],
   "source": [
    "print_details(name = \"Sneha\", age = \"32\" , country= \"India\")"
   ]
  },
  {
   "cell_type": "code",
   "execution_count": null,
   "metadata": {},
   "outputs": [],
   "source": [
    "def print_details(*args,**kwargs):\n",
    "    for val in args:\n",
    "        print(f\"Positional argument : {val}\")\n",
    "    for key,value in kwargs.items():\n",
    "        print(f\"{key} : {value}\")"
   ]
  },
  {
   "cell_type": "code",
   "execution_count": null,
   "metadata": {},
   "outputs": [
    {
     "name": "stdout",
     "output_type": "stream",
     "text": [
      "Positional argument : 1\n",
      "Positional argument : 2\n",
      "Positional argument : 3\n",
      "Positional argument : 4\n",
      "Positional argument : Sneha\n",
      "name : Sneha\n",
      "age : 32\n",
      "country : India\n"
     ]
    }
   ],
   "source": [
    "print_details(1,2,3,4,\"Sneha\" ,name = \"Sneha\", age = \"32\" , country= \"India\")"
   ]
  },
  {
   "cell_type": "code",
   "execution_count": null,
   "metadata": {},
   "outputs": [
    {
     "name": "stdout",
     "output_type": "stream",
     "text": [
      "(6, 2)\n"
     ]
    }
   ],
   "source": [
    "## return statements\n",
    "def multiply(a,b):\n",
    "    return a*b,a\n",
    "\n",
    "result = multiply(2,3)\n",
    "print(result)"
   ]
  },
  {
   "cell_type": "code",
   "execution_count": null,
   "metadata": {},
   "outputs": [],
   "source": [
    "def convert_temperature(temp,unit):\n",
    "    \"\"\"This functionn converts temperature between celsius anf fahrenheit\"\"\"\n",
    "    if unit == 'C' :\n",
    "        return temp * 9/5  + 32   ##Celsius to Fahrenheit \n",
    "    elif unit=='F':\n",
    "        return (temp-32)*5/9    ## Fahrenheit to celsius \n",
    "    else :\n",
    "        return None \n",
    "    \n",
    "   \n",
    "\n"
   ]
  },
  {
   "cell_type": "code",
   "execution_count": null,
   "metadata": {},
   "outputs": [
    {
     "name": "stdout",
     "output_type": "stream",
     "text": [
      "77.0\n",
      "None\n"
     ]
    }
   ],
   "source": [
    "print(convert_temperature(25,'C'))\n",
    "print(convert_temperature(77,'K'))\n"
   ]
  },
  {
   "cell_type": "code",
   "execution_count": null,
   "metadata": {},
   "outputs": [
    {
     "name": "stdout",
     "output_type": "stream",
     "text": [
      "True\n"
     ]
    }
   ],
   "source": [
    "def is_strongpassword(password):\n",
    "    if len(password) < 8 :\n",
    "        return False\n",
    "    if not any(char.isdigit() for char in password ):\n",
    "        return False\n",
    "    if not any(char.islower() for char in password):\n",
    "        return False \n",
    "    if not any(char.isupper() for char in password):\n",
    "        return False\n",
    "    if not any(char in '!@#$%^&*()_+'  for char in password):\n",
    "        return False \n",
    "    return True \n",
    "\n",
    "## Calling functionn\n",
    "\n",
    "\n",
    "print(is_strongpassword(\"Sneha@12345\"))\n"
   ]
  },
  {
   "cell_type": "code",
   "execution_count": null,
   "metadata": {},
   "outputs": [
    {
     "name": "stdout",
     "output_type": "stream",
     "text": [
      "5.8999999999999995\n"
     ]
    }
   ],
   "source": [
    "def calculate_total_cost(cart):\n",
    "    total_cost = 0\n",
    "    for item in cart:\n",
    "        total_cost+=item['price']*item['quantity']\n",
    "    return total_cost \n",
    "\n",
    "\n",
    "## Example cart data \n",
    "\n",
    "cart = [\n",
    "    {\n",
    "        'name' : 'Apple' , 'price' : 0.5 , 'quantity' : 4\n",
    "    },\n",
    "    {\n",
    "        'name' : 'Banana' , 'price' : 0.3 ,'quantity' : 6\n",
    "    },\n",
    "    {\n",
    "        'name'  : 'Orange' , 'price' : 0.7 , 'quantity' :3\n",
    "    }\n",
    "]\n",
    "\n",
    "\n",
    "total_cost = calculate_total_cost(cart)\n",
    "print(total_cost)"
   ]
  },
  {
   "cell_type": "code",
   "execution_count": null,
   "metadata": {},
   "outputs": [
    {
     "name": "stdout",
     "output_type": "stream",
     "text": [
      "True\n",
      "False\n"
     ]
    }
   ],
   "source": [
    "def is_palindrome(s):\n",
    "    s=s.lower().replace(\" \",\"\")\n",
    "    return s==s[::-1]\n",
    "\n",
    "print(is_palindrome(\"A man a plan a canal Panama\"))\n",
    "print(is_palindrome(\"Hello\"))\n"
   ]
  },
  {
   "cell_type": "code",
   "execution_count": null,
   "metadata": {},
   "outputs": [
    {
     "name": "stdout",
     "output_type": "stream",
     "text": [
      "720\n"
     ]
    }
   ],
   "source": [
    "def factorial(n):\n",
    "    if n==0:\n",
    "        return 1\n",
    "    else:\n",
    "        return n*factorial(n-1)\n",
    "print(factorial(6))"
   ]
  },
  {
   "cell_type": "code",
   "execution_count": null,
   "metadata": {},
   "outputs": [
    {
     "name": "stdout",
     "output_type": "stream",
     "text": [
      "{'hello': 1, 'world': 1, 'how': 1, 'are': 1, 'you': 1, 'my': 1, 'name': 1, 'is': 1, 'sneha': 2}\n"
     ]
    }
   ],
   "source": [
    "def count_word_frequency(file_path):\n",
    "    word_count = {}\n",
    "    with open(file_path,'r') as file:\n",
    "        for line in file:\n",
    "            words = line.split()\n",
    "            for word in words:\n",
    "                word = word.lower().strip('.,!?;:\"\\'')\n",
    "                word_count[word] = word_count.get(word,0)+1\n",
    "    return word_count\n",
    "\n",
    "\n",
    "filepath = 'sample.txt'\n",
    "word_frequency = count_word_frequency(filepath)\n",
    "print(word_frequency)\n"
   ]
  },
  {
   "cell_type": "code",
   "execution_count": null,
   "metadata": {},
   "outputs": [
    {
     "name": "stdout",
     "output_type": "stream",
     "text": [
      "None\n",
      "None\n"
     ]
    }
   ],
   "source": [
    "# valid email\n",
    "import re\n",
    "def is_valid(email):\n",
    "    \"\"\"This function is for validation of email\"\"\"\n",
    "    pattern = r'^[a-aZ-Z0-9_.+-]+@[a-zA-Z0-9-]+\\.[a-zA-Z0-9-.]+$'\n",
    "    return re.match(pattern,email)\n",
    "\n",
    "#calling the function\n",
    "print(is_valid(\"test@example.com\"))  \n",
    "\n",
    "print(is_valid(\"invalid-email\"))"
   ]
  },
  {
   "cell_type": "markdown",
   "metadata": {},
   "source": [
    "## lambda Function\n",
    "\n"
   ]
  },
  {
   "cell_type": "code",
   "execution_count": null,
   "metadata": {},
   "outputs": [
    {
     "data": {
      "text/plain": [
       "<function __main__.<lambda>(arguments)>"
      ]
     },
     "execution_count": 167,
     "metadata": {},
     "output_type": "execute_result"
    }
   ],
   "source": [
    "## Syntax arugments \n",
    "\n",
    "lambda arguments : expression"
   ]
  },
  {
   "cell_type": "code",
   "execution_count": null,
   "metadata": {},
   "outputs": [],
   "source": [
    "def addition(a,b):\n",
    "    return a+b"
   ]
  },
  {
   "cell_type": "code",
   "execution_count": null,
   "metadata": {},
   "outputs": [
    {
     "name": "stdout",
     "output_type": "stream",
     "text": [
      "30\n"
     ]
    }
   ],
   "source": [
    "add =addition(10,20)\n",
    "print(add)"
   ]
  },
  {
   "cell_type": "code",
   "execution_count": null,
   "metadata": {},
   "outputs": [
    {
     "name": "stdout",
     "output_type": "stream",
     "text": [
      "25\n"
     ]
    }
   ],
   "source": [
    "addition = lambda a,b : a+b\n",
    "type(addition)\n",
    "print(addition(12,13))"
   ]
  },
  {
   "cell_type": "code",
   "execution_count": null,
   "metadata": {},
   "outputs": [
    {
     "name": "stdout",
     "output_type": "stream",
     "text": [
      "Given number :23 is odd number\n"
     ]
    }
   ],
   "source": [
    "def even(num):\n",
    "    if num%2==0:\n",
    "        print(f\"Given number : {num} is even\")\n",
    "    else:\n",
    "        print(f\"Given number :{num} is odd number\")\n",
    "\n",
    "even(23)\n",
    "\n",
    "    "
   ]
  },
  {
   "cell_type": "code",
   "execution_count": null,
   "metadata": {},
   "outputs": [
    {
     "data": {
      "text/plain": [
       "True"
      ]
     },
     "execution_count": 174,
     "metadata": {},
     "output_type": "execute_result"
    }
   ],
   "source": [
    "even1 = lambda num : num%2==0\n",
    "even1(12)"
   ]
  },
  {
   "cell_type": "code",
   "execution_count": null,
   "metadata": {},
   "outputs": [
    {
     "data": {
      "text/plain": [
       "60"
      ]
     },
     "execution_count": 175,
     "metadata": {},
     "output_type": "execute_result"
    }
   ],
   "source": [
    "def addition(x,y,z):\n",
    "    return x+y+z\n",
    "addition(10,20,30)"
   ]
  },
  {
   "cell_type": "code",
   "execution_count": null,
   "metadata": {},
   "outputs": [
    {
     "data": {
      "text/plain": [
       "39"
      ]
     },
     "execution_count": 176,
     "metadata": {},
     "output_type": "execute_result"
    }
   ],
   "source": [
    "addition1 = lambda x,y,z:x+y+z\n",
    "addition(12,13,14)"
   ]
  },
  {
   "cell_type": "code",
   "execution_count": null,
   "metadata": {},
   "outputs": [
    {
     "data": {
      "text/plain": [
       "4"
      ]
     },
     "execution_count": 177,
     "metadata": {},
     "output_type": "execute_result"
    }
   ],
   "source": [
    "## map() --> applies a function to all items in a list \n",
    "\n",
    "\n",
    "numbers = [1,2,3,4,5,6]\n",
    "def square(number):\n",
    "    return number**2\n",
    "\n",
    "\n",
    "square(2)\n",
    "\n"
   ]
  },
  {
   "cell_type": "code",
   "execution_count": null,
   "metadata": {},
   "outputs": [
    {
     "data": {
      "text/plain": [
       "[1, 4, 9, 16, 25, 36]"
      ]
     },
     "execution_count": 179,
     "metadata": {},
     "output_type": "execute_result"
    }
   ],
   "source": [
    "list(map(lambda x:x**2,numbers))"
   ]
  },
  {
   "cell_type": "code",
   "execution_count": null,
   "metadata": {},
   "outputs": [
    {
     "data": {
      "text/plain": [
       "16"
      ]
     },
     "execution_count": 180,
     "metadata": {},
     "output_type": "execute_result"
    }
   ],
   "source": [
    "def square(x):\n",
    "    return x*x\n",
    "square(4)"
   ]
  },
  {
   "cell_type": "code",
   "execution_count": null,
   "metadata": {},
   "outputs": [
    {
     "data": {
      "text/plain": [
       "[1, 4, 9, 16, 25, 36, 49, 64]"
      ]
     },
     "execution_count": 182,
     "metadata": {},
     "output_type": "execute_result"
    }
   ],
   "source": [
    "numbers =  [1,2,3,4,5,6,7,8]\n",
    "list(map(square,numbers))"
   ]
  },
  {
   "cell_type": "code",
   "execution_count": null,
   "metadata": {},
   "outputs": [
    {
     "data": {
      "text/plain": [
       "[1, 4, 9, 16, 25, 36, 49, 64]"
      ]
     },
     "execution_count": 183,
     "metadata": {},
     "output_type": "execute_result"
    }
   ],
   "source": [
    "numbers =  [1,2,3,4,5,6,7,8]\n",
    "\n",
    "list(map(lambda x:x**2 , numbers))"
   ]
  },
  {
   "cell_type": "code",
   "execution_count": null,
   "metadata": {},
   "outputs": [
    {
     "name": "stdout",
     "output_type": "stream",
     "text": [
      "[5, 7, 9]\n"
     ]
    }
   ],
   "source": [
    "### mapping multiple iterable\n",
    "\n",
    "numbers1 = [1,2,3]\n",
    "numbers2 =[4,5,6]\n",
    "\n",
    "added_numbers = list(map(lambda  x,y : x+y,numbers1,numbers2))\n",
    "\n",
    "print(added_numbers)"
   ]
  },
  {
   "cell_type": "code",
   "execution_count": null,
   "metadata": {},
   "outputs": [
    {
     "name": "stdout",
     "output_type": "stream",
     "text": [
      "[1, 2, 3, 4]\n"
     ]
    }
   ],
   "source": [
    "## using map() to convert a list of strings to integers \n",
    "\n",
    "\n",
    "str_numbers = ['1','2','3','4']\n",
    "int_numbers = list(map(int,str_numbers))\n",
    "print(int_numbers)"
   ]
  },
  {
   "cell_type": "code",
   "execution_count": null,
   "metadata": {},
   "outputs": [],
   "source": [
    "del str\n"
   ]
  },
  {
   "cell_type": "code",
   "execution_count": null,
   "metadata": {},
   "outputs": [
    {
     "name": "stdout",
     "output_type": "stream",
     "text": [
      "['APPLE', 'BANANA', 'CHERRY']\n"
     ]
    }
   ],
   "source": [
    "words = ['apple', 'banana', 'cherry']\n",
    "upper_word = list(map(str.upper, words))\n",
    "print(upper_word)\n"
   ]
  },
  {
   "cell_type": "code",
   "execution_count": null,
   "metadata": {},
   "outputs": [
    {
     "data": {
      "text/plain": [
       "['Sneha', 'Vishal']"
      ]
     },
     "execution_count": 190,
     "metadata": {},
     "output_type": "execute_result"
    }
   ],
   "source": [
    "def get_name(person):\n",
    "    return person['name']\n",
    "\n",
    "people = [\n",
    "    {\"name\" : \"Sneha\" , \"age\" : 22} ,\n",
    "    {\"name\" : \"Vishal\" , \"age\" : 25}\n",
    "]\n",
    "\n",
    "\n",
    "list(map(get_name,people))"
   ]
  },
  {
   "cell_type": "code",
   "execution_count": null,
   "metadata": {},
   "outputs": [],
   "source": [
    "## Filter function comstructs an iterator from elements of an iterable for which a function returns true"
   ]
  },
  {
   "cell_type": "code",
   "execution_count": null,
   "metadata": {},
   "outputs": [],
   "source": [
    "def even(num):\n",
    "    if num%2==0:\n",
    "        return True"
   ]
  },
  {
   "cell_type": "code",
   "execution_count": null,
   "metadata": {},
   "outputs": [
    {
     "data": {
      "text/plain": [
       "[2, 4, 6, 8, 10, 12]"
      ]
     },
     "execution_count": 199,
     "metadata": {},
     "output_type": "execute_result"
    }
   ],
   "source": [
    "lst = [1,2,3,4,5,6,7,8,9,10,11,12]\n",
    "\n",
    "\n",
    "list(filter(even,lst))"
   ]
  },
  {
   "cell_type": "code",
   "execution_count": null,
   "metadata": {},
   "outputs": [
    {
     "name": "stdout",
     "output_type": "stream",
     "text": [
      "[6, 7, 8, 9]\n"
     ]
    }
   ],
   "source": [
    "numbers = [1,2,3,4,5,6,7,8,9]\n",
    "greater_than_five = list(filter(lambda x : x > 5 ,numbers))\n",
    "print(greater_than_five)"
   ]
  },
  {
   "cell_type": "code",
   "execution_count": null,
   "metadata": {},
   "outputs": [],
   "source": [
    "numbers = [1,2,3,4,5,6,7,8,9]\n",
    "greater_than_five_even =  list(filter(lambda x : x > 5 and x%2==0 ,numbers))"
   ]
  },
  {
   "cell_type": "code",
   "execution_count": null,
   "metadata": {},
   "outputs": [
    {
     "name": "stdout",
     "output_type": "stream",
     "text": [
      "[6, 8]\n"
     ]
    }
   ],
   "source": [
    "print(greater_than_five_even)"
   ]
  },
  {
   "cell_type": "markdown",
   "metadata": {},
   "source": [
    "## Importing Modules and Packages in Python"
   ]
  },
  {
   "cell_type": "code",
   "execution_count": null,
   "metadata": {},
   "outputs": [
    {
     "data": {
      "text/plain": [
       "4.0"
      ]
     },
     "execution_count": 205,
     "metadata": {},
     "output_type": "execute_result"
    }
   ],
   "source": [
    "import math \n",
    "math.sqrt(16)"
   ]
  },
  {
   "cell_type": "code",
   "execution_count": null,
   "metadata": {},
   "outputs": [
    {
     "name": "stdout",
     "output_type": "stream",
     "text": [
      "4.0\n",
      "5.0\n",
      "3.141592653589793\n"
     ]
    }
   ],
   "source": [
    "from math import sqrt,pi\n",
    "print(sqrt(16))\n",
    "print(sqrt(25))\n",
    "print(pi)"
   ]
  },
  {
   "cell_type": "code",
   "execution_count": null,
   "metadata": {},
   "outputs": [
    {
     "data": {
      "text/plain": [
       "array([1, 2, 3, 4])"
      ]
     },
     "execution_count": 208,
     "metadata": {},
     "output_type": "execute_result"
    }
   ],
   "source": [
    "import numpy as np\n",
    "np.array([1,2,3,4])"
   ]
  },
  {
   "cell_type": "code",
   "execution_count": null,
   "metadata": {},
   "outputs": [
    {
     "name": "stdout",
     "output_type": "stream",
     "text": [
      "4.0\n",
      "3.141592653589793\n"
     ]
    }
   ],
   "source": [
    "from math import *\n",
    "print(sqrt(16))\n",
    "print(pi)"
   ]
  },
  {
   "cell_type": "code",
   "execution_count": null,
   "metadata": {},
   "outputs": [
    {
     "data": {
      "text/plain": [
       "5"
      ]
     },
     "execution_count": 212,
     "metadata": {},
     "output_type": "execute_result"
    }
   ],
   "source": [
    "from packages.maths import addition\n",
    "addition(2,3)"
   ]
  },
  {
   "cell_type": "code",
   "execution_count": null,
   "metadata": {},
   "outputs": [
    {
     "data": {
      "text/plain": [
       "5"
      ]
     },
     "execution_count": 214,
     "metadata": {},
     "output_type": "execute_result"
    }
   ],
   "source": [
    "from packages import maths\n",
    "maths.addition(2,3)"
   ]
  },
  {
   "cell_type": "code",
   "execution_count": null,
   "metadata": {},
   "outputs": [
    {
     "name": "stdout",
     "output_type": "stream",
     "text": [
      "5\n"
     ]
    }
   ],
   "source": [
    "\n",
    "from packages.subpackages.Operations import *\n",
    "oper(2,3)\n",
    "\n",
    "\n"
   ]
  },
  {
   "cell_type": "markdown",
   "metadata": {},
   "source": [
    "### Standard Library Overview "
   ]
  },
  {
   "cell_type": "code",
   "execution_count": null,
   "metadata": {},
   "outputs": [
    {
     "name": "stdout",
     "output_type": "stream",
     "text": [
      "array('i', [1, 2, 3, 4])\n"
     ]
    }
   ],
   "source": [
    "import array\n",
    "arr = array.array('i',[1,2,3,4])\n",
    "print(arr)"
   ]
  },
  {
   "cell_type": "code",
   "execution_count": null,
   "metadata": {},
   "outputs": [
    {
     "name": "stdout",
     "output_type": "stream",
     "text": [
      "4.0\n",
      "3.141592653589793\n"
     ]
    }
   ],
   "source": [
    "import math \n",
    "print(math.sqrt(16))\n",
    "print(math.pi)\n"
   ]
  },
  {
   "cell_type": "code",
   "execution_count": null,
   "metadata": {},
   "outputs": [
    {
     "name": "stdout",
     "output_type": "stream",
     "text": [
      "3\n",
      "apple\n"
     ]
    }
   ],
   "source": [
    "## random\n",
    "\n",
    "import random\n",
    "print(random.randint(1,10))\n",
    "print(random.choice(['apple','banana','cherry']))"
   ]
  },
  {
   "cell_type": "code",
   "execution_count": null,
   "metadata": {},
   "outputs": [
    {
     "name": "stdout",
     "output_type": "stream",
     "text": [
      "c:\\Users\\Lenovo\\OneDrive\\Documents\\GitHub\\Data-Science-Course\n"
     ]
    }
   ],
   "source": [
    "###  File and directory Access\n",
    "\n",
    "import os\n",
    "print(os.getcwd())"
   ]
  },
  {
   "cell_type": "code",
   "execution_count": null,
   "metadata": {},
   "outputs": [],
   "source": [
    "os.mkdir('test_dir')"
   ]
  },
  {
   "cell_type": "code",
   "execution_count": null,
   "metadata": {},
   "outputs": [
    {
     "data": {
      "text/plain": [
       "'destination.txt'"
      ]
     },
     "execution_count": 228,
     "metadata": {},
     "output_type": "execute_result"
    }
   ],
   "source": [
    "## high level of  operations on file\n",
    "import shutil \n",
    "shutil.copyfile('source.txt' , 'destination.txt')"
   ]
  },
  {
   "cell_type": "code",
   "execution_count": null,
   "metadata": {},
   "outputs": [
    {
     "name": "stdout",
     "output_type": "stream",
     "text": [
      "{\"name\": \"Sneha Pujari\", \"age\": 22}\n",
      "<class 'str'>\n",
      "{'name': 'Sneha Pujari', 'age': 22}\n",
      "<class 'dict'>\n"
     ]
    }
   ],
   "source": [
    "## Data serialization\n",
    "\n",
    "import json\n",
    "\n",
    "data = {'name' : 'Sneha Pujari' , 'age' : 22 }\n",
    "\n",
    "\n",
    "json_str =json.dumps(data)\n",
    "print(json_str)\n",
    "print(type(json_str))\n",
    "\n",
    "paresd_data = json.loads(json_str)\n",
    "print(paresd_data)\n",
    "print(type(paresd_data))"
   ]
  },
  {
   "cell_type": "code",
   "execution_count": null,
   "metadata": {},
   "outputs": [
    {
     "name": "stdout",
     "output_type": "stream",
     "text": [
      "['name', 'age']\n",
      "['Sneha', '22']\n"
     ]
    }
   ],
   "source": [
    "## csv \n",
    "\n",
    "import csv \n",
    "\n",
    "with open('example.csv',mode = 'w' , newline='') as file :\n",
    "\n",
    "    writer = csv.writer(file)\n",
    "    writer.writerow(['name','age'])\n",
    "    writer.writerow(['Sneha',22])\n",
    "\n",
    "with open('example.csv' , mode = 'r') as file:\n",
    "    reader = csv.reader(file)\n",
    "    for row in reader:\n",
    "        print(row)\n",
    "    \n"
   ]
  },
  {
   "cell_type": "code",
   "execution_count": null,
   "metadata": {},
   "outputs": [
    {
     "name": "stdout",
     "output_type": "stream",
     "text": [
      "2024-11-30 15:22:13.911072\n"
     ]
    }
   ],
   "source": [
    "## Datetime\n",
    "from datetime import datetime\n",
    "now = datetime.now()\n",
    "print(now)\n",
    "\n",
    "\n",
    "yesterday = now-timedelta(days=1)\n",
    "print(yesterday)\n"
   ]
  },
  {
   "cell_type": "code",
   "execution_count": null,
   "metadata": {},
   "outputs": [
    {
     "name": "stdout",
     "output_type": "stream",
     "text": [
      "1732960683.8414843\n",
      "1732960685.8424773\n"
     ]
    }
   ],
   "source": [
    "import time \n",
    "print(time.time())\n",
    "time.sleep(2)\n",
    "print(time.time())"
   ]
  },
  {
   "cell_type": "code",
   "execution_count": null,
   "metadata": {},
   "outputs": [
    {
     "name": "stdout",
     "output_type": "stream",
     "text": [
      "123\n"
     ]
    }
   ],
   "source": [
    "## Regular Expression\n",
    "\n",
    "\n",
    "import re\n",
    "pattern = r'\\d+'\n",
    "text = 'There are 123 apples 456'\n",
    "match =  re.search(pattern,text)\n",
    "print(match.group())"
   ]
  },
  {
   "cell_type": "markdown",
   "metadata": {},
   "source": [
    "##### File operation - Read and Write Files "
   ]
  },
  {
   "cell_type": "code",
   "execution_count": null,
   "metadata": {},
   "outputs": [
    {
     "name": "stdout",
     "output_type": "stream",
     "text": [
      "I am good \n",
      "Sneha Pujari is my name \n",
      "Welcome to the course\n",
      "\n",
      "\n"
     ]
    }
   ],
   "source": [
    "### Reading a whole File \n",
    "\n",
    "\n",
    "with open('example.txt','r') as file:\n",
    "    for line in file:\n",
    "        content=file.read()\n",
    "        print(content)\n",
    "\n"
   ]
  },
  {
   "cell_type": "code",
   "execution_count": null,
   "metadata": {},
   "outputs": [
    {
     "name": "stdout",
     "output_type": "stream",
     "text": [
      "Hello How are you ?\n",
      "I am good\n",
      "Sneha Pujari is my name\n",
      "Welcome to the course\n",
      "\n"
     ]
    }
   ],
   "source": [
    "## Read a file line by line\n",
    "with open('example.txt','r') as file:\n",
    "    for line in file:\n",
    "        print(line.strip())   ## Strip removes the space\n"
   ]
  },
  {
   "cell_type": "code",
   "execution_count": null,
   "metadata": {},
   "outputs": [],
   "source": [
    "##  Writing a file(Overwiting)\n",
    "\n",
    "\n",
    "with open('example.txt' ,'w') as file :\n",
    "    file.write('Hello World!\\n')\n",
    "    file.write('this is a new line.')\n"
   ]
  },
  {
   "cell_type": "code",
   "execution_count": null,
   "metadata": {},
   "outputs": [],
   "source": [
    "## write a file without overwriting then \n",
    "\n",
    "\n",
    "with open('example.txt','a') as file :\n",
    "    file.write('\\n Append operation taking place!')\n",
    "    \n"
   ]
  },
  {
   "cell_type": "code",
   "execution_count": null,
   "metadata": {},
   "outputs": [],
   "source": [
    " ## Writing a list of lines \n",
    "\n",
    "lines = ['First line \\n ' , 'Second line \\n' , 'Third line \\n']\n",
    "\n",
    "with open('example.txt' ,'a') as file :\n",
    "    file.writelines(lines)\n",
    "\n",
    "\n",
    "\n"
   ]
  },
  {
   "cell_type": "code",
   "execution_count": null,
   "metadata": {},
   "outputs": [],
   "source": [
    "## binary files\n",
    "#Writing to a binary file\n",
    "\n",
    "\n",
    "data = b'\\x00\\x01\\x02\\x03\\x04'\n",
    "\n",
    "with open('example.bin','wb')  as file:\n",
    "    file.write(data)\n"
   ]
  },
  {
   "cell_type": "code",
   "execution_count": null,
   "metadata": {},
   "outputs": [
    {
     "name": "stdout",
     "output_type": "stream",
     "text": [
      "b'\\x00\\x01\\x02\\x03\\x04'\n"
     ]
    }
   ],
   "source": [
    "# Reading a binary file \n",
    "\n",
    "with open('example.bin','rb') as file:\n",
    "    content = file.read()\n",
    "    print(content)"
   ]
  },
  {
   "cell_type": "code",
   "execution_count": null,
   "metadata": {},
   "outputs": [],
   "source": [
    "###  Read the content from source text file to a destination text file \n",
    "\n",
    "# Copying a text file \n",
    "\n",
    "\n",
    "with open('example.txt','r')  as source_file:\n",
    "    content = source_file.read()\n",
    "\n",
    "with open('destination.txt','w') as destination_file:\n",
    "    destination_file.write(content)\n"
   ]
  },
  {
   "cell_type": "code",
   "execution_count": null,
   "metadata": {},
   "outputs": [
    {
     "name": "stdout",
     "output_type": "stream",
     "text": [
      "Lines : 10 , Words : 28 , Characters : 200\n"
     ]
    }
   ],
   "source": [
    "def count_text_file(file_path):\n",
    "    with open(file_path , 'r') as file:\n",
    "        lines = file.readlines()\n",
    "\n",
    "        line_count = len(lines)\n",
    "        word_count = sum(len(line.split()) for line in lines)\n",
    "        char_count = sum(len(line) for line in lines)\n",
    "    return line_count, word_count,char_count\n",
    "\n",
    "file_path = 'example.txt'\n",
    "lines,words , characters  = count_text_file(file_path)\n",
    "print(f\"Lines : {lines} , Words : {words} , Characters : {characters}\")"
   ]
  },
  {
   "cell_type": "markdown",
   "metadata": {},
   "source": [
    "The w+ mode is used to open a file for both reading and writing "
   ]
  },
  {
   "cell_type": "code",
   "execution_count": null,
   "metadata": {},
   "outputs": [
    {
     "name": "stdout",
     "output_type": "stream",
     "text": [
      "Hello world\n",
      "This is a new line \n",
      " \n"
     ]
    }
   ],
   "source": [
    "### Writing and then reading a file \n",
    "\n",
    "with open('example.txt','w+') as file :\n",
    "    file.write(\"Hello world\\n\")\n",
    "    file.write(\"This is a new line \\n \")\n",
    "\n",
    "\n",
    "    ##   Move the file cursor to the beginning \n",
    "    file.seek(0)\n",
    "\n",
    "\n",
    "\n",
    "## Read the content of the file \n",
    "    content = file.read()\n",
    "    print(content)\n",
    "    \n",
    "\n",
    "\n"
   ]
  },
  {
   "cell_type": "code",
   "execution_count": null,
   "metadata": {},
   "outputs": [
    {
     "name": "stdout",
     "output_type": "stream",
     "text": [
      "Current working directory is c:\\Users\\Lenovo\\OneDrive\\Documents\\GitHub\\Data-Science-Course\\Python\n"
     ]
    }
   ],
   "source": [
    "import os\n",
    "\n",
    "cwd =  os.getcwd()\n",
    "print(f\"Current working directory is {cwd}\")\n"
   ]
  },
  {
   "cell_type": "code",
   "execution_count": null,
   "metadata": {},
   "outputs": [
    {
     "name": "stdout",
     "output_type": "stream",
     "text": [
      "Directory 'package' create\n"
     ]
    }
   ],
   "source": [
    "###  Create a new Directory \n",
    "\n",
    "new_directory = \"package\"\n",
    "os.mkdir(new_directory)\n",
    "print(f\"Directory '{new_directory}' create\")"
   ]
  },
  {
   "cell_type": "code",
   "execution_count": null,
   "metadata": {},
   "outputs": [
    {
     "name": "stdout",
     "output_type": "stream",
     "text": [
      "['destination.txt', 'example.bin', 'example.csv', 'example.txt', 'package', 'packages', 'Python_Full_Course.ipynb', 'sample.txt', 'source.txt', 'test_dir']\n"
     ]
    }
   ],
   "source": [
    "## listing Files and Directories \n",
    "\n",
    "items = os.listdir('.')\n",
    "print(items)\n"
   ]
  },
  {
   "cell_type": "code",
   "execution_count": null,
   "metadata": {},
   "outputs": [
    {
     "name": "stdout",
     "output_type": "stream",
     "text": [
      "folder\\file.txt\n"
     ]
    }
   ],
   "source": [
    "### JOINING paths \n",
    "dir_name = \"folder\"\n",
    "file_name = \"file.txt\"\n",
    "full_path = os.path.join(dir_name,file_name)\n",
    "print(full_path)\n"
   ]
  },
  {
   "cell_type": "code",
   "execution_count": null,
   "metadata": {},
   "outputs": [
    {
     "name": "stdout",
     "output_type": "stream",
     "text": [
      "c:\\Users\\Lenovo\\OneDrive\\Documents\\GitHub\\Data-Science-Course\\Python\\folder\\file.txt\n"
     ]
    }
   ],
   "source": [
    "### JOINING paths \n",
    "dir_name = \"folder\"\n",
    "file_name = \"file.txt\"\n",
    "full_path = os.path.join(os.getcwd(),dir_name,file_name)\n",
    "print(full_path)"
   ]
  },
  {
   "cell_type": "code",
   "execution_count": null,
   "metadata": {},
   "outputs": [
    {
     "name": "stdout",
     "output_type": "stream",
     "text": [
      "The path 'example1.txt' does not exists\n"
     ]
    }
   ],
   "source": [
    "path = 'example1.txt'\n",
    "if os.path.exists(path):\n",
    "    print(f\"The path '{path}' exists\")\n",
    "else:\n",
    "    print(f\"The path '{path}' does not exists\")"
   ]
  },
  {
   "cell_type": "code",
   "execution_count": null,
   "metadata": {},
   "outputs": [
    {
     "name": "stdout",
     "output_type": "stream",
     "text": [
      "the path 'example.txt' is a file\n"
     ]
    }
   ],
   "source": [
    "#Checking if a path is a File or directory \n",
    "\n",
    "import os\n",
    "\n",
    "path = 'example.txt'\n",
    "if os.path.isfile(path):\n",
    "    print(f\"the path '{path}' is a file\")\n",
    "elif os.path.isdir(path):\n",
    "    print(f\"The path '{path} is a directory. \")\n",
    "else :\n",
    "    print(f\"The path '{path}' is neither a file nor a directory . \")\n",
    "\n"
   ]
  },
  {
   "cell_type": "code",
   "execution_count": null,
   "metadata": {},
   "outputs": [
    {
     "name": "stdout",
     "output_type": "stream",
     "text": [
      "c:\\Users\\Lenovo\\OneDrive\\Documents\\GitHub\\Data-Science-Course\\Python\\example.txt\n"
     ]
    }
   ],
   "source": [
    "## Getting the absolute path \n",
    "\n",
    "relative_path = 'example.txt'\n",
    "absolute_path = os.path.abspath(relative_path)\n",
    "print(absolute_path)"
   ]
  },
  {
   "cell_type": "markdown",
   "metadata": {},
   "source": [
    "### Understanding  Exceptions"
   ]
  },
  {
   "cell_type": "code",
   "execution_count": null,
   "metadata": {},
   "outputs": [],
   "source": [
    "## Exceptions are events that disrupt the normal flow of a program.\n",
    "\n",
    "### Common exceptions include :\n",
    "### ZeroDivisionError : Diving by zero \n",
    "### ValueError : Invalid Value\n",
    "###  TypeError : Invalid type "
   ]
  },
  {
   "cell_type": "code",
   "execution_count": null,
   "metadata": {},
   "outputs": [
    {
     "name": "stdout",
     "output_type": "stream",
     "text": [
      "name 'b' is not defined\n"
     ]
    }
   ],
   "source": [
    "try:\n",
    "    a=b\n",
    "except NameError as ex:\n",
    "     print(ex)\n",
    "   \n"
   ]
  },
  {
   "cell_type": "code",
   "execution_count": null,
   "metadata": {},
   "outputs": [
    {
     "name": "stdout",
     "output_type": "stream",
     "text": [
      "division by zero\n"
     ]
    }
   ],
   "source": [
    "try:\n",
    "    result = 1/0\n",
    "except ZeroDivisionError as ex:\n",
    "    print(ex)"
   ]
  },
  {
   "cell_type": "code",
   "execution_count": null,
   "metadata": {},
   "outputs": [
    {
     "name": "stdout",
     "output_type": "stream",
     "text": [
      "name 'b' is not defined\n",
      "Please enter the denominator greater tha 0\n"
     ]
    }
   ],
   "source": [
    "try:\n",
    "    result = 1/2\n",
    "    a=b\n",
    "except NameError as ex:\n",
    "     print(ex)\n",
    "     print(\"Please enter the denominator greater tha 0\")\n",
    "except Exception as ex1:\n",
    "     print(ex1)\n",
    "     print(\"Main exception class got here \")"
   ]
  },
  {
   "cell_type": "code",
   "execution_count": null,
   "metadata": {},
   "outputs": [
    {
     "name": "stdout",
     "output_type": "stream",
     "text": [
      "This is not a valid number \n"
     ]
    }
   ],
   "source": [
    "try:\n",
    "    num = int(input(\"Enter a number\"))\n",
    "    result = 10/num\n",
    "    print(result)\n",
    "except ValueError:\n",
    "    print(\"This is not a valid number \")\n",
    "except ZeroDivisionError :\n",
    "    print(\"Enter denominator greater than 0\")\n",
    "except Exception as ex:\n",
    "    print(ex)\n"
   ]
  },
  {
   "cell_type": "code",
   "execution_count": null,
   "metadata": {},
   "outputs": [
    {
     "name": "stdout",
     "output_type": "stream",
     "text": [
      "You can't divide by zero !\n"
     ]
    }
   ],
   "source": [
    "## try,except , else block \n",
    "\n",
    "try:\n",
    "    num = int(input(\"Enter a number :\"))\n",
    "    result = 10/num\n",
    "except ValueError :\n",
    "    print(\"That's not a valid number!\")\n",
    "except ZeroDivisionError :\n",
    "    print(\"You can't divide by zero !\")\n",
    "except Exception as ex:\n",
    "    print(ex)\n",
    "else :\n",
    "    print(f\"the result is {result}\")\n",
    "\n",
    "\n"
   ]
  },
  {
   "cell_type": "code",
   "execution_count": null,
   "metadata": {},
   "outputs": [
    {
     "name": "stdout",
     "output_type": "stream",
     "text": [
      "the result is 0.9090909090909091\n",
      "Exceution Complete \n"
     ]
    }
   ],
   "source": [
    "## try,except ,else and finally \n",
    "\n",
    "\n",
    "try:\n",
    "    num = int(input(\"Enter a number :\"))\n",
    "    result = 10/num\n",
    "except ValueError :\n",
    "    print(\"That's not a valid number!\")\n",
    "except ZeroDivisionError :\n",
    "    print(\"You can't divide by zero !\")\n",
    "except Exception as ex:\n",
    "    print(ex)\n",
    "else :\n",
    "    print(f\"the result is {result}\")\n",
    "finally:\n",
    "    print(\"Exceution Complete \")"
   ]
  },
  {
   "cell_type": "code",
   "execution_count": null,
   "metadata": {},
   "outputs": [
    {
     "name": "stdout",
     "output_type": "stream",
     "text": [
      "name 'b' is not defined\n",
      "File closed\n"
     ]
    }
   ],
   "source": [
    "## File handling and exceptional handling\n",
    "try:\n",
    "    file = open('example1.txt','r')\n",
    "    content = file.read()\n",
    "    a=b\n",
    "    print(content)\n",
    "\n",
    "except FileNotFoundError :\n",
    "    print(\"The file does not exists \")\n",
    "except Exception as ex:\n",
    "    print(ex)\n",
    "\n",
    "finally:\n",
    "    if 'file' in locals() or not file.closed():\n",
    "        file.close()\n",
    "        print('File closed')"
   ]
  },
  {
   "cell_type": "markdown",
   "metadata": {},
   "source": [
    "##  Classes and Objects\n",
    "\n"
   ]
  },
  {
   "cell_type": "code",
   "execution_count": null,
   "metadata": {},
   "outputs": [
    {
     "name": "stdout",
     "output_type": "stream",
     "text": [
      "<class '__main__.Car'>\n"
     ]
    }
   ],
   "source": [
    "### A class is a blue print for creating objects . Attributes , methods\n",
    "\n",
    "class Car:\n",
    "    pass\n",
    "\n",
    "audi = Car()\n",
    "bmw = Car()\n",
    "\n",
    "print(type(audi))"
   ]
  },
  {
   "cell_type": "code",
   "execution_count": null,
   "metadata": {},
   "outputs": [
    {
     "name": "stdout",
     "output_type": "stream",
     "text": [
      "<__main__.Car object at 0x0000026832377B60>\n"
     ]
    }
   ],
   "source": [
    "print(audi)"
   ]
  },
  {
   "cell_type": "code",
   "execution_count": null,
   "metadata": {},
   "outputs": [
    {
     "name": "stdout",
     "output_type": "stream",
     "text": [
      "buddy\n",
      "3\n"
     ]
    }
   ],
   "source": [
    "### instance Variable and Methods \n",
    "\n",
    "class Dog:\n",
    "    def __init__(self,name,age):\n",
    "        self.name = name \n",
    "        self.age = age \n",
    "\n",
    "## create a object\n",
    "dog1 = Dog(\"buddy\",3)\n",
    "print(dog1.name)\n",
    "print(dog1.age)\n"
   ]
  },
  {
   "cell_type": "code",
   "execution_count": null,
   "metadata": {},
   "outputs": [
    {
     "name": "stdout",
     "output_type": "stream",
     "text": [
      "Buddy says woof\n",
      "Lucy says woof\n"
     ]
    }
   ],
   "source": [
    "class Dog:\n",
    "    def __init__(self,name,age):\n",
    "        self.name = name \n",
    "        self.age = age\n",
    "\n",
    "    def bark(self):\n",
    "        print(f\"{self.name} says woof\")\n",
    "\n",
    "dog1 = Dog(\"Buddy\" , 3 )\n",
    "dog1.bark()\n",
    "\n",
    "dog2 = Dog(\"Lucy\", 2)\n",
    "dog2.bark()"
   ]
  },
  {
   "cell_type": "code",
   "execution_count": null,
   "metadata": {},
   "outputs": [
    {
     "name": "stdout",
     "output_type": "stream",
     "text": [
      "1000\n",
      "300 is withdraw . New Balance is 300 \n",
      "None\n",
      "10000 is deposited amount.New balance is 10300 \n",
      "None\n",
      "10300\n"
     ]
    }
   ],
   "source": [
    "###  Modeling a bank Account \n",
    "\n",
    "## Define a class for bank account \n",
    "\n",
    "class BankAccount:\n",
    "    def __init__(self,owner,balance =0):\n",
    "        self.owner = owner\n",
    "        self.balance = balance\n",
    "    def deposit(self,amount):\n",
    "        self.balance+=amount\n",
    "        print(f\"{amount} is deposited amount.New balance is {self.balance} \")\n",
    "    def withdraw(self,amount):\n",
    "        if amount > self.balance :\n",
    "            print(\"Insufficient Funds\")\n",
    "        else:\n",
    "            self.balance = amount\n",
    "            print(f\"{amount} is withdraw . New Balance is {self.balance} \")\n",
    "    def get_balance(self):\n",
    "        return self.balance\n",
    "    \n",
    "## create an account \n",
    "\n",
    "account = BankAccount(\"Sneha\",1000)\n",
    "\n",
    "print(account.balance)\n",
    "print(account.withdraw(300))\n",
    "print(account.deposit(10000))\n",
    "\n",
    "\n",
    "print(account.get_balance())\n",
    "\n",
    "\n",
    "\n"
   ]
  },
  {
   "cell_type": "markdown",
   "metadata": {},
   "source": [
    "#### Inheritance in Python \n",
    "\n",
    "It inherit attributes and methods "
   ]
  },
  {
   "cell_type": "code",
   "execution_count": null,
   "metadata": {},
   "outputs": [],
   "source": [
    "## Inheritance \n",
    "## Parent class \n",
    "class Car:\n",
    "    def __init__(self,windows,doors,enginetype):\n",
    "        self.windows = windows\n",
    "        self.doors = doors \n",
    "        self.enginetype = enginetype\n",
    "\n",
    "    def drive(self):\n",
    "        print(f\"The person will drive the {self.enginetype} car \")\n"
   ]
  },
  {
   "cell_type": "code",
   "execution_count": null,
   "metadata": {},
   "outputs": [
    {
     "name": "stdout",
     "output_type": "stream",
     "text": [
      "The person will drive the petrol car \n",
      "None\n"
     ]
    }
   ],
   "source": [
    "car1 = Car(4,5,'petrol')\n",
    "print(car1.drive())"
   ]
  },
  {
   "cell_type": "code",
   "execution_count": null,
   "metadata": {},
   "outputs": [],
   "source": [
    "class Tesla(Car):\n",
    "    def __init__(self,windows,doors,enginetype,is_selfdriving):\n",
    "        super().__init__(windows,doors,enginetype)\n",
    "        self.is_selfdriving = is_selfdriving\n",
    "    def selfdriving(self):\n",
    "        print(f\"Tesla supports self driving : {self.is_selfdriving}\")\n",
    "\n"
   ]
  },
  {
   "cell_type": "code",
   "execution_count": null,
   "metadata": {},
   "outputs": [
    {
     "name": "stdout",
     "output_type": "stream",
     "text": [
      "Tesla supports self driving : True\n",
      "The person will drive the Electric car \n"
     ]
    }
   ],
   "source": [
    "tesla1 = Tesla(4,5,\"Electric\",True)\n",
    "tesla1.selfdriving()\n",
    "tesla1.drive()\n"
   ]
  },
  {
   "cell_type": "code",
   "execution_count": null,
   "metadata": {},
   "outputs": [
    {
     "name": "stdout",
     "output_type": "stream",
     "text": [
      "Buddy say woof \n",
      "Owner : Sneha\n"
     ]
    }
   ],
   "source": [
    "### Multiple Inheritance \n",
    "## When a class inherits from more than one base class\n",
    "## Base class 1\n",
    "\n",
    "class Animal :\n",
    "    def __init__(self,name):\n",
    "        self.name = name \n",
    "\n",
    "    def speak(self):\n",
    "        print(\"Subclass must implement this method \")\n",
    "\n",
    "## Base  class 2 \n",
    "class Pet :\n",
    "    def __init__(self,owner):\n",
    "        self.owner = owner \n",
    "\n",
    "## Derived class \n",
    "class Dog(Animal,Pet):\n",
    "    def __init__(self,name , owner):\n",
    "        Animal.__init__(self,name)\n",
    "        Pet.__init__(self,owner)\n",
    "    def speak(self):\n",
    "        return f\"{self.name} say woof \"\n",
    "\n",
    "## Create an object \n",
    "dog = Dog(\"Buddy\",'Sneha')\n",
    "print(dog.speak())\n",
    "print(f\"Owner : {dog.owner}\")\n",
    "\n",
    "\n",
    "\n"
   ]
  },
  {
   "cell_type": "code",
   "execution_count": null,
   "metadata": {},
   "outputs": [
    {
     "name": "stdout",
     "output_type": "stream",
     "text": [
      "Redlabel\n",
      "100\n",
      "Redlabel\n",
      "None\n"
     ]
    }
   ],
   "source": [
    "class Tea :\n",
    "    def __init__(self,name,price):\n",
    "        self.name = name\n",
    "        self.price = price \n",
    "    def redlabel(self):\n",
    "        print(self.name)\n",
    "        \n",
    "\n",
    "drink1 = Tea(\"Redlabel\",100)\n",
    "print(drink1.name)\n",
    "print(drink1.price)\n",
    "print(drink1.redlabel())"
   ]
  },
  {
   "cell_type": "code",
   "execution_count": null,
   "metadata": {},
   "outputs": [
    {
     "name": "stdout",
     "output_type": "stream",
     "text": [
      "Bru Coffe\n",
      "Bru Coffe\n",
      "None\n",
      "Redlabel\n",
      "100\n"
     ]
    }
   ],
   "source": [
    "class Coffee(Tea):\n",
    "    def __init__(self,name,price):\n",
    "        Tea.__init__(self,name,price)\n",
    "        self.name = name \n",
    "\n",
    "\n",
    "Coffee1 = Coffee(\"Bru Coffe\",90)\n",
    "print(Coffee1.name)\n",
    "print(Coffee1.redlabel())\n",
    "print(drink1.name)\n",
    "print(drink1.price)"
   ]
  },
  {
   "cell_type": "markdown",
   "metadata": {},
   "source": [
    "#### Polymorphism"
   ]
  },
  {
   "cell_type": "markdown",
   "metadata": {},
   "source": [
    "Method overriding allows a child class to provide a specific implementation of a method that is already defined in its parent class "
   ]
  },
  {
   "cell_type": "code",
   "execution_count": null,
   "metadata": {},
   "outputs": [
    {
     "name": "stdout",
     "output_type": "stream",
     "text": [
      "Woof\n",
      "Meow!\n",
      "Woof\n"
     ]
    }
   ],
   "source": [
    "class Animal:\n",
    "    def speak(self):\n",
    "        return \"Sound of the animal\"\n",
    "## Dervived Class 1\n",
    "class Dog(Animal):\n",
    "    def speak(self):\n",
    "        return \"Woof\"\n",
    "## Derived Class \n",
    "class Cat(Animal):\n",
    "    def speak(self):\n",
    "        return \"Meow!\"\n",
    "\n",
    "def animal_speak(animal):\n",
    "    print(animal.speak())\n",
    "## Function that demonstrates polymorphism \n",
    "dog = Dog()\n",
    "cat = Cat()\n",
    "print(dog.speak())\n",
    "print(cat.speak())\n",
    "\n",
    "animal_speak(dog)\n",
    "    "
   ]
  },
  {
   "cell_type": "code",
   "execution_count": null,
   "metadata": {},
   "outputs": [
    {
     "name": "stdout",
     "output_type": "stream",
     "text": [
      "Loook\n"
     ]
    }
   ],
   "source": [
    "class A :\n",
    "    def B():\n",
    "        return \"Loook\"\n",
    "\n",
    "\n",
    "h = A\n",
    "print(h.B())"
   ]
  },
  {
   "cell_type": "code",
   "execution_count": null,
   "metadata": {},
   "outputs": [
    {
     "name": "stdout",
     "output_type": "stream",
     "text": [
      "1\n"
     ]
    }
   ],
   "source": [
    "class N:\n",
    "    def K(a,b):\n",
    "        print(a)\n",
    "\n",
    "\n",
    "m = N\n",
    "m.K(1,2)"
   ]
  },
  {
   "cell_type": "code",
   "execution_count": null,
   "metadata": {},
   "outputs": [
    {
     "data": {
      "text/plain": [
       "'Look'"
      ]
     },
     "execution_count": 21,
     "metadata": {},
     "output_type": "execute_result"
    }
   ],
   "source": [
    "class O :\n",
    "    def p():\n",
    "        return \"Look\"\n",
    "    \n",
    "l = O\n",
    "l.p()"
   ]
  },
  {
   "cell_type": "code",
   "execution_count": null,
   "metadata": {},
   "outputs": [
    {
     "name": "stdout",
     "output_type": "stream",
     "text": [
      "We are in CD\n",
      "None\n",
      "We within the AB\n",
      "None\n"
     ]
    }
   ],
   "source": [
    "class A:\n",
    "    def B ():\n",
    "        print(\"We within the AB\")\n",
    "\n",
    "    \n",
    "class C(A):\n",
    "    def D():\n",
    "        print(\"We are in CD\")\n",
    "\n",
    "\n",
    "k = C\n",
    "print(k.D())\n",
    "print(k.B())"
   ]
  },
  {
   "cell_type": "code",
   "execution_count": null,
   "metadata": {},
   "outputs": [
    {
     "name": "stdout",
     "output_type": "stream",
     "text": [
      "sneha\n"
     ]
    },
    {
     "data": {
      "text/plain": [
       "'sneha'"
      ]
     },
     "execution_count": 27,
     "metadata": {},
     "output_type": "execute_result"
    }
   ],
   "source": [
    "class J:\n",
    "    def __init__(self,name,age):\n",
    "        self.name = name \n",
    "        self.age = age\n",
    "    def details(self):\n",
    "        print(self.name)\n",
    "\n",
    "\n",
    "h = J(\"sneha\",89)\n",
    "h.details()\n",
    "h.age\n",
    "h.name"
   ]
  },
  {
   "cell_type": "code",
   "execution_count": null,
   "metadata": {},
   "outputs": [
    {
     "name": "stdout",
     "output_type": "stream",
     "text": [
      "It is not as importanat as it\n"
     ]
    }
   ],
   "source": [
    "class K:\n",
    "    def A():\n",
    "        print(\"It is important as polyphorsim\")\n",
    "\n",
    "class L (K):\n",
    "\n",
    "    def A():\n",
    "        print(\"It is not as importanat as it\")\n",
    "\n",
    "class P (K):\n",
    "    def A():\n",
    "        print(\"OOO\")\n",
    "\n",
    "\n",
    "p = L \n",
    "\n",
    "\n",
    "p.A()\n",
    "\n"
   ]
  },
  {
   "cell_type": "code",
   "execution_count": null,
   "metadata": {},
   "outputs": [
    {
     "name": "stdout",
     "output_type": "stream",
     "text": [
      "156\n"
     ]
    }
   ],
   "source": [
    "###  Polymorphism with Functions and Methods \n",
    "## base class \n",
    "class Shape:\n",
    "    def area(self):\n",
    "        return \"The area of the figure\"\n",
    "\n",
    "\n",
    "## Dervived class 1\n",
    "    \n",
    "class Rectangular(Shape):\n",
    "    def __init__(self,width,height):\n",
    "        self.width =  width \n",
    "        self.height = height \n",
    "      \n",
    "    def area(self):\n",
    "\n",
    "        return self.width*self.height\n",
    "\n",
    "        \n",
    "\n",
    "\n",
    "area1 = Rectangular(12,13)\n",
    "print(area1.area())\n",
    "\n"
   ]
  },
  {
   "cell_type": "markdown",
   "metadata": {},
   "source": [
    "### Method overriding\n",
    "\n",
    "###### firstly Abstract base classes"
   ]
  },
  {
   "cell_type": "code",
   "execution_count": null,
   "metadata": {},
   "outputs": [
    {
     "name": "stdout",
     "output_type": "stream",
     "text": [
      "Car engineer started\n"
     ]
    }
   ],
   "source": [
    "from abc import ABC,abstractmethod\n",
    "## Define an abstract class \n",
    "\n",
    "class Vehicle(ABC):\n",
    "    @abstractmethod\n",
    "    def start_engine(self):\n",
    "        pass\n",
    "\n",
    "## Dervived class 1\n",
    "\n",
    "class Car(Vehicle):\n",
    "    def start_engine(self):\n",
    "        return \"Car engineer started\"\n",
    "\n",
    "\n",
    "## Dervived class 2 \n",
    "class Motorcycle(Vehicle):\n",
    "        \n",
    "        def start_engine(self):\n",
    "\n",
    "            return \"Motorcycle engineer started\"\n",
    "\n",
    "def start_vehicle(vehicle):\n",
    "     print(vehicle.start_engine())\n",
    "\n",
    "## create objects of Car and Motorcycle \n",
    "\n",
    "\n",
    "car = Car()\n",
    "motorcycle = Motorcycle()\n",
    "start_vehicle(car)\n"
   ]
  },
  {
   "cell_type": "markdown",
   "metadata": {},
   "source": [
    "Encapsulation and Abstraction "
   ]
  },
  {
   "cell_type": "markdown",
   "metadata": {},
   "source": [
    "###### Encapsulation is the concept of wrapping data (variables) and methods (functions) together as a single unit"
   ]
  },
  {
   "cell_type": "code",
   "execution_count": null,
   "metadata": {},
   "outputs": [
    {
     "name": "stdout",
     "output_type": "stream",
     "text": [
      "Sneha\n"
     ]
    }
   ],
   "source": [
    "### Encapulsation \n",
    "\n",
    "## public \n",
    "## protected\n",
    "## Private \n",
    "\n",
    "class Person:\n",
    "    def __init__(self,name,age):\n",
    "        self.name = name \n",
    "        self.age = age  ##  public variables \n",
    "\n",
    "def get_name(person):\n",
    "    return person.name\n",
    "person = Person(\"Sneha\" , 22)\n",
    "print(person.name)\n",
    "\n",
    "\n"
   ]
  },
  {
   "cell_type": "code",
   "execution_count": null,
   "metadata": {},
   "outputs": [
    {
     "data": {
      "text/plain": [
       "'Sneha'"
      ]
     },
     "execution_count": 67,
     "metadata": {},
     "output_type": "execute_result"
    }
   ],
   "source": [
    "class Person:\n",
    "    def __init__(self,name,age,gender):\n",
    "        self.__name = name \n",
    "        self.__age = age  ##  private variables \n",
    "        self.gender = gender  ## public variables\n",
    "def get_name(person):\n",
    "    return person._Person__name\n",
    "\n",
    "person = Person(\"Sneha\",22,\"female\")\n",
    "get_name(person)\n"
   ]
  },
  {
   "cell_type": "code",
   "execution_count": null,
   "metadata": {},
   "outputs": [
    {
     "name": "stdout",
     "output_type": "stream",
     "text": [
      "Sneha\n"
     ]
    }
   ],
   "source": [
    "class Person:\n",
    "    def __init__(self,name,age,gender):\n",
    "        self._name = name \n",
    "        self._age = age  ##  protected variables (they can be access by devived class)\n",
    "        self.gender = gender  ## protectec varaible\n",
    "class Employee(Person):\n",
    "    def __init__(self,name,age,gender):\n",
    "        super().__init__(name,age,gender)\n",
    "\n",
    "employee  = Employee(\"Sneha\",22,\"Female\")\n",
    "print(employee._name)\n"
   ]
  },
  {
   "cell_type": "code",
   "execution_count": null,
   "metadata": {},
   "outputs": [
    {
     "name": "stdout",
     "output_type": "stream",
     "text": [
      "Sneha\n",
      "22\n",
      "35\n",
      "Age cannot be negative\n"
     ]
    }
   ],
   "source": [
    "##  Encapsulation with getter and setter\n",
    "\n",
    "class Person:\n",
    "    def __init__(self,name,age):\n",
    "        self.__name = name  ## Private access modifier or variable\n",
    "        self.__age = age  ## Private variable\n",
    "\n",
    "## getter method for name\n",
    "    def get_name(self):\n",
    "        return self.__name\n",
    "    \n",
    "## setter method\n",
    "    def set_name(self,name):\n",
    "        self.__name = name\n",
    "\n",
    "# Getter method for age\n",
    "    def get_age(self):\n",
    "        return self.__age\n",
    "\n",
    "##Setter method for age\n",
    "    def set_age(self,age):\n",
    "        if age > 0 :\n",
    "            self.__age = age\n",
    "        else:\n",
    "            print(\"Age cannot be negative\")   \n",
    "person = Person(\"Sneha\",22)\n",
    "print(person.get_name())\n",
    "print(person.get_age())\n",
    "\n",
    "person.set_age(35)\n",
    "print(person.get_age())\n",
    "\n",
    "person.set_age(-5)\n",
    "    "
   ]
  },
  {
   "cell_type": "code",
   "execution_count": null,
   "metadata": {},
   "outputs": [
    {
     "name": "stdout",
     "output_type": "stream",
     "text": [
      "Hi , it's abstract class\n",
      "None\n"
     ]
    }
   ],
   "source": [
    "from abc import ABC,abstractmethod\n",
    "\n",
    "class A(ABC):\n",
    "    @abstractmethod\n",
    "    def void():\n",
    "        pass\n",
    "\n",
    "class G(A):\n",
    "    def void():\n",
    "        print(\"Hi , it's abstract class\")\n",
    "\n",
    "\n",
    "\n",
    "k = G\n",
    "print(k.void())"
   ]
  },
  {
   "cell_type": "code",
   "execution_count": null,
   "metadata": {},
   "outputs": [
    {
     "name": "stdout",
     "output_type": "stream",
     "text": [
      "Sneha\n",
      "Female\n",
      "22\n"
     ]
    }
   ],
   "source": [
    "## Encapsulation\n",
    "\n",
    "\n",
    "class J :\n",
    "    def __init__(self,name,age,gender):\n",
    "        self.name = name  ## public\n",
    "        self.__age = age  ## Private\n",
    "        self._gender = gender ## protected \n",
    "   \n",
    "    \n",
    "   \n",
    "\n",
    "look = J(\"Sneha\",22,\"Female\")\n",
    "\n",
    "\n",
    "print(look.name)\n",
    "print(look._gender)\n",
    "print(look._J__age)\n"
   ]
  },
  {
   "cell_type": "markdown",
   "metadata": {},
   "source": [
    "#### Abstraction\n",
    "\n",
    "it is used to hide the complex implemention"
   ]
  },
  {
   "cell_type": "code",
   "execution_count": null,
   "metadata": {},
   "outputs": [
    {
     "name": "stdout",
     "output_type": "stream",
     "text": [
      "Car started\n",
      "The vehicle is used for driving\n"
     ]
    }
   ],
   "source": [
    "from abc import ABC,abstractmethod\n",
    "\n",
    "class Vehicle(ABC):\n",
    "    def drive(self):\n",
    "        print(\"The vehicle is used for driving\")\n",
    "    @abstractmethod\n",
    "\n",
    "    def start_engine(self):\n",
    "        pass\n",
    "\n",
    "class Car(Vehicle):\n",
    "    def start_engine(self):\n",
    "        print(\"Car started\")\n",
    "\n",
    "\n",
    "def operate_vehicle(vehicle):\n",
    "    vehicle.start_engine()\n",
    "    vehicle.drive()\n",
    "\n",
    "car=Car()\n",
    "operate_vehicle(car)"
   ]
  },
  {
   "cell_type": "markdown",
   "metadata": {},
   "source": [
    "#### Magic methods"
   ]
  },
  {
   "cell_type": "code",
   "execution_count": null,
   "metadata": {},
   "outputs": [
    {
     "data": {
      "text/plain": [
       "['__class__',\n",
       " '__delattr__',\n",
       " '__dict__',\n",
       " '__dir__',\n",
       " '__doc__',\n",
       " '__eq__',\n",
       " '__firstlineno__',\n",
       " '__format__',\n",
       " '__ge__',\n",
       " '__getattribute__',\n",
       " '__getstate__',\n",
       " '__gt__',\n",
       " '__hash__',\n",
       " '__init__',\n",
       " '__init_subclass__',\n",
       " '__le__',\n",
       " '__lt__',\n",
       " '__module__',\n",
       " '__ne__',\n",
       " '__new__',\n",
       " '__reduce__',\n",
       " '__reduce_ex__',\n",
       " '__repr__',\n",
       " '__setattr__',\n",
       " '__sizeof__',\n",
       " '__static_attributes__',\n",
       " '__str__',\n",
       " '__subclasshook__',\n",
       " '__weakref__']"
      ]
     },
     "execution_count": 90,
     "metadata": {},
     "output_type": "execute_result"
    }
   ],
   "source": [
    "class Person:\n",
    "    pass\n",
    "\n",
    "h = Person()\n",
    "dir(Person)"
   ]
  },
  {
   "cell_type": "code",
   "execution_count": null,
   "metadata": {},
   "outputs": [
    {
     "name": "stdout",
     "output_type": "stream",
     "text": [
      "<__main__.Person object at 0x000002949432D400>\n"
     ]
    }
   ],
   "source": [
    "print(person)"
   ]
  },
  {
   "cell_type": "code",
   "execution_count": null,
   "metadata": {},
   "outputs": [
    {
     "name": "stdout",
     "output_type": "stream",
     "text": [
      "Sneha\n",
      "22\n"
     ]
    }
   ],
   "source": [
    "## Basics Methods\n",
    "class Person:\n",
    "    def __init__(self,name,age):\n",
    "        self.name = name\n",
    "        self.age = age\n",
    "    \n",
    "    \n",
    "\n",
    "peson = Person(\"Sneha\",22)\n",
    "print(peson.name)\n",
    "print(peson.age)"
   ]
  },
  {
   "cell_type": "markdown",
   "metadata": {},
   "source": [
    "#### Operator Overloading"
   ]
  },
  {
   "cell_type": "code",
   "execution_count": null,
   "metadata": {},
   "outputs": [
    {
     "name": "stdout",
     "output_type": "stream",
     "text": [
      "5\n",
      "23\n"
     ]
    }
   ],
   "source": [
    "class Vector:\n",
    "    def __init__(self,name_count,age):\n",
    "        self.name_count = name_count\n",
    "        self.age = age\n",
    "\n",
    "    def __add__(self,other):\n",
    "        return Vector(self.name_count + other.name_count, self.age + other.age)\n",
    "    \n",
    "    \n",
    "\n",
    "k = Vector(5, 23)\n",
    "\n",
    "\n",
    "\n",
    "print(k.name_count)\n",
    "print(k.age)"
   ]
  },
  {
   "cell_type": "markdown",
   "metadata": {},
   "source": [
    "### Custom Exception  (Raise and Throw an exception)"
   ]
  },
  {
   "cell_type": "code",
   "execution_count": null,
   "metadata": {},
   "outputs": [],
   "source": [
    "class Error(Exception):\n",
    "    pass\n",
    "\n",
    "class dobException(Error):\n",
    "    pass"
   ]
  },
  {
   "cell_type": "code",
   "execution_count": null,
   "metadata": {},
   "outputs": [
    {
     "name": "stdout",
     "output_type": "stream",
     "text": [
      "Sorry,your age should be greater than 20 or less than 30\n"
     ]
    }
   ],
   "source": [
    "year = int(input(\"Enter the dob\"))\n",
    "\n",
    "age = 2024 - year\n",
    "try:\n",
    "    if age<=30 and age>=20:\n",
    "        print(\"The age is valid so you can apply for the exam\")\n",
    "    else:\n",
    "           \n",
    "           raise dobException\n",
    "except dobException:\n",
    "     print(\"Sorry,your age should be greater than 20 or less than 30\")\n",
    "    \n",
    "\n",
    " "
   ]
  },
  {
   "cell_type": "markdown",
   "metadata": {},
   "source": [
    "## Iterators \n",
    "\n",
    "##### Iterators are advanced Python concepts that allows for efficient looping and memory management. Iterators provide a way to access elements of a collection sequentially without exposing the underlying structure "
   ]
  },
  {
   "cell_type": "code",
   "execution_count": null,
   "metadata": {},
   "outputs": [
    {
     "name": "stdout",
     "output_type": "stream",
     "text": [
      "1\n",
      "2\n",
      "3\n",
      "4\n",
      "5\n",
      "6\n"
     ]
    }
   ],
   "source": [
    "my_list = [1,2,3,4,5,6]\n",
    "for i in my_list:\n",
    "    print(i)"
   ]
  },
  {
   "cell_type": "code",
   "execution_count": null,
   "metadata": {},
   "outputs": [
    {
     "data": {
      "text/plain": [
       "list"
      ]
     },
     "execution_count": 4,
     "metadata": {},
     "output_type": "execute_result"
    }
   ],
   "source": [
    "type(my_list)"
   ]
  },
  {
   "cell_type": "code",
   "execution_count": null,
   "metadata": {},
   "outputs": [
    {
     "name": "stdout",
     "output_type": "stream",
     "text": [
      "[1, 2, 3, 4, 5, 6]\n"
     ]
    }
   ],
   "source": [
    "print(my_list)"
   ]
  },
  {
   "cell_type": "code",
   "execution_count": null,
   "metadata": {},
   "outputs": [
    {
     "name": "stdout",
     "output_type": "stream",
     "text": [
      "<class 'list_iterator'>\n"
     ]
    }
   ],
   "source": [
    "## Iterator \n",
    "\n",
    "iterator = iter(my_list)\n",
    "print(type(iterator))"
   ]
  },
  {
   "cell_type": "code",
   "execution_count": null,
   "metadata": {},
   "outputs": [
    {
     "data": {
      "text/plain": [
       "2"
      ]
     },
     "execution_count": 8,
     "metadata": {},
     "output_type": "execute_result"
    }
   ],
   "source": [
    "## Iterate through all  the element \n",
    "\n",
    "next(iterator)"
   ]
  },
  {
   "cell_type": "code",
   "execution_count": null,
   "metadata": {},
   "outputs": [
    {
     "name": "stdout",
     "output_type": "stream",
     "text": [
      "There are no elements in the iterator\n"
     ]
    }
   ],
   "source": [
    "try:\n",
    "    print(next(iterator))\n",
    "except StopIteration:\n",
    "    print(\"There are no elements in the iterator\")"
   ]
  },
  {
   "cell_type": "markdown",
   "metadata": {},
   "source": [
    "#### Generators \n",
    "\n",
    "It is way to create iterators "
   ]
  },
  {
   "cell_type": "code",
   "execution_count": null,
   "metadata": {},
   "outputs": [],
   "source": [
    "def square(n):\n",
    "    for i in range(3):\n",
    "        yield i**2"
   ]
  },
  {
   "cell_type": "code",
   "execution_count": null,
   "metadata": {},
   "outputs": [
    {
     "data": {
      "text/plain": [
       "<generator object square at 0x0000021C9526DBE0>"
      ]
     },
     "execution_count": 16,
     "metadata": {},
     "output_type": "execute_result"
    }
   ],
   "source": [
    "square(3)"
   ]
  },
  {
   "cell_type": "code",
   "execution_count": null,
   "metadata": {},
   "outputs": [
    {
     "name": "stdout",
     "output_type": "stream",
     "text": [
      "0\n",
      "1\n",
      "4\n"
     ]
    }
   ],
   "source": [
    "for i in square(3):\n",
    "    print(i)\n"
   ]
  },
  {
   "cell_type": "code",
   "execution_count": null,
   "metadata": {},
   "outputs": [
    {
     "data": {
      "text/plain": [
       "<generator object square at 0x0000021C9526E190>"
      ]
     },
     "execution_count": 18,
     "metadata": {},
     "output_type": "execute_result"
    }
   ],
   "source": [
    "a = square(3)\n",
    "a"
   ]
  },
  {
   "cell_type": "code",
   "execution_count": null,
   "metadata": {},
   "outputs": [],
   "source": [
    "next(a)"
   ]
  },
  {
   "cell_type": "code",
   "execution_count": null,
   "metadata": {},
   "outputs": [],
   "source": [
    "def my_generator():\n",
    "    yield 1\n",
    "    yield 2\n",
    "    yield 2"
   ]
  },
  {
   "cell_type": "code",
   "execution_count": null,
   "metadata": {},
   "outputs": [
    {
     "data": {
      "text/plain": [
       "<generator object my_generator at 0x0000021C95243C10>"
      ]
     },
     "execution_count": 25,
     "metadata": {},
     "output_type": "execute_result"
    }
   ],
   "source": [
    "gen = my_generator()\n",
    "gen "
   ]
  },
  {
   "cell_type": "code",
   "execution_count": null,
   "metadata": {},
   "outputs": [
    {
     "data": {
      "text/plain": [
       "2"
      ]
     },
     "execution_count": 27,
     "metadata": {},
     "output_type": "execute_result"
    }
   ],
   "source": [
    "next(gen)"
   ]
  },
  {
   "cell_type": "code",
   "execution_count": null,
   "metadata": {},
   "outputs": [],
   "source": [
    "for val in gen :\n",
    "    print(val)"
   ]
  },
  {
   "cell_type": "code",
   "execution_count": null,
   "metadata": {},
   "outputs": [],
   "source": [
    "### Practical : Reading  Large Files \n",
    "def  read_large_file(file_path):\n",
    "    with open(file_path,'r')  as file :\n",
    "        for line in file :\n",
    "            yield line\n",
    "\n",
    "\n"
   ]
  },
  {
   "cell_type": "code",
   "execution_count": null,
   "metadata": {},
   "outputs": [
    {
     "name": "stdout",
     "output_type": "stream",
     "text": [
      "Wilfred Arthur (7 December 1919 â€“ 23 December 2000) was a fighter ace and senior officer of the Royal Australian Air Force (RAAF) during World War II. Commonly known as \"Woof\", he was credited with ten aerial victories and led combat formations at squadron and wing level, becoming the youngest group captain in RAAF history. Arthur first saw action in the Middle East and was awarded the Distinguished Flying Cross for shooting down four aircraft in a single sortie. He was then posted to New Guinea, where he received the Distinguished Service Order for continuing to lead an attack after discovering his guns were inoperable. As wing leader of No. 71 Wing, he was severely burned in a runway collision. Upon recovery, he was posted to the Dutch East Indies and played a leading part in the Morotai Mutiny when eight RAAF officers attempted to resign. Following his discharge, he pursued business interests in Australia and Vietnam before settling in Darwin, Northern Territory.\n"
     ]
    }
   ],
   "source": [
    "file_path = 'large_file.txt'\n",
    "\n",
    "for line in read_large_file(file_path):\n",
    "    print(line.strip())"
   ]
  },
  {
   "cell_type": "markdown",
   "metadata": {},
   "source": [
    "##### Decorators "
   ]
  },
  {
   "cell_type": "code",
   "execution_count": null,
   "metadata": {},
   "outputs": [
    {
     "data": {
      "text/plain": [
       "'Welcome to the advanced Python course'"
      ]
     },
     "execution_count": 50,
     "metadata": {},
     "output_type": "execute_result"
    }
   ],
   "source": [
    "# Function Copy\n",
    "\n",
    "def welcome():\n",
    "    return \"Welcome to the advanced Python course\"\n",
    "\n",
    "welcome()"
   ]
  },
  {
   "cell_type": "code",
   "execution_count": null,
   "metadata": {},
   "outputs": [],
   "source": [
    "wel = welcome"
   ]
  },
  {
   "cell_type": "code",
   "execution_count": null,
   "metadata": {},
   "outputs": [
    {
     "name": "stdout",
     "output_type": "stream",
     "text": [
      "Welcome to the advanced Python course\n"
     ]
    }
   ],
   "source": [
    "print(wel())"
   ]
  },
  {
   "cell_type": "code",
   "execution_count": null,
   "metadata": {},
   "outputs": [],
   "source": [
    "del welcome"
   ]
  },
  {
   "cell_type": "code",
   "execution_count": null,
   "metadata": {},
   "outputs": [
    {
     "name": "stdout",
     "output_type": "stream",
     "text": [
      "Welcome to the advanced Python course\n"
     ]
    }
   ],
   "source": [
    "print(wel())"
   ]
  },
  {
   "cell_type": "code",
   "execution_count": null,
   "metadata": {},
   "outputs": [],
   "source": [
    "## closures\n",
    "\n",
    "def main_welcome(func):\n",
    "    msg = \"Welcome\"\n",
    "    def sub_welcome_method():\n",
    "        print(\"Welcome to the advance python course\")\n",
    "    return sub_welcome_method()"
   ]
  },
  {
   "cell_type": "code",
   "execution_count": null,
   "metadata": {},
   "outputs": [
    {
     "name": "stdout",
     "output_type": "stream",
     "text": [
      "Welcome to the advance python course\n"
     ]
    }
   ],
   "source": [
    "main_welcome(\"Hey\")"
   ]
  },
  {
   "cell_type": "code",
   "execution_count": null,
   "metadata": {},
   "outputs": [],
   "source": [
    "## Decorator \n",
    "\n",
    "def sub_welcome_method(func):\n",
    "    def sub_welcome_method():\n",
    "        print(\"Welcome--->\")\n",
    "        func()\n",
    "        print(\"Please learn\")\n",
    "    return sub_welcome_method()\n"
   ]
  },
  {
   "cell_type": "code",
   "execution_count": null,
   "metadata": {},
   "outputs": [
    {
     "name": "stdout",
     "output_type": "stream",
     "text": [
      "This is an advanced python course\n"
     ]
    }
   ],
   "source": [
    "def  cousre_introduction():\n",
    "    print(\"This is an advanced python course\")\n",
    "\n",
    "cousre_introduction()"
   ]
  },
  {
   "cell_type": "code",
   "execution_count": null,
   "metadata": {},
   "outputs": [
    {
     "name": "stdout",
     "output_type": "stream",
     "text": [
      "Welcome to the advance python course\n"
     ]
    }
   ],
   "source": [
    "main_welcome(cousre_introduction)"
   ]
  },
  {
   "cell_type": "code",
   "execution_count": null,
   "metadata": {},
   "outputs": [
    {
     "name": "stdout",
     "output_type": "stream",
     "text": [
      "Welcome to the advance python course\n"
     ]
    }
   ],
   "source": [
    "@main_welcome\n",
    "def cousre_introduction():\n",
    "    print(\"This is an advanced python course\")"
   ]
  },
  {
   "cell_type": "code",
   "execution_count": null,
   "metadata": {},
   "outputs": [],
   "source": [
    "## decorator\n",
    "\n",
    "def my_decorator(func):\n",
    "    def wrapper():\n",
    "        print(\"SOmething or sometime\")\n",
    "        func()\n",
    "        print(\"somethong is sometime\")\n",
    "\n",
    "    return wrapper"
   ]
  },
  {
   "cell_type": "code",
   "execution_count": null,
   "metadata": {},
   "outputs": [],
   "source": [
    "@my_decorator\n",
    "def say_hello():\n",
    "    print(\"Hello!\")"
   ]
  },
  {
   "cell_type": "code",
   "execution_count": null,
   "metadata": {},
   "outputs": [
    {
     "name": "stdout",
     "output_type": "stream",
     "text": [
      "SOmething or sometime\n",
      "Hello!\n",
      "somethong is sometime\n"
     ]
    }
   ],
   "source": [
    "say_hello()"
   ]
  },
  {
   "cell_type": "markdown",
   "metadata": {},
   "source": [
    "### logging"
   ]
  }
 ],
 "metadata": {
  "kernelspec": {
   "display_name": ".venv",
   "language": "python",
   "name": "python3"
  },
  "language_info": {
   "codemirror_mode": {
    "name": "ipython",
    "version": 3
   },
   "file_extension": ".py",
   "mimetype": "text/x-python",
   "name": "python",
   "nbconvert_exporter": "python",
   "pygments_lexer": "ipython3",
   "version": "3.12.1"
  },
  "orig_nbformat": 4
 },
 "nbformat": 4,
 "nbformat_minor": 2
}
